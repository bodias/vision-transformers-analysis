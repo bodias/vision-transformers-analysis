{
 "cells": [
  {
   "cell_type": "code",
   "execution_count": null,
   "id": "d88319c4",
   "metadata": {},
   "outputs": [],
   "source": [
    "#!pip install tensorflow"
   ]
  },
  {
   "cell_type": "code",
   "execution_count": null,
   "id": "6eb90016",
   "metadata": {},
   "outputs": [],
   "source": [
    "#!pip install scikit-learn"
   ]
  },
  {
   "cell_type": "code",
   "execution_count": 1,
   "id": "81154ae2",
   "metadata": {},
   "outputs": [],
   "source": [
    "import os\n",
    "os.environ['TF_CPP_MIN_LOG_LEVEL'] = '2' \n",
    "import tensorflow as tf\n",
    "from sklearn.model_selection import train_test_split\n",
    "from sklearn.metrics import confusion_matrix\n",
    "from tensorflow.keras.models import Sequential\n",
    "from tensorflow.keras.layers import Activation\n",
    "from tensorflow.keras.optimizers import SGD, Adam\n",
    "from tensorflow.keras.layers import Dense, Dropout, Input\n",
    "from tensorflow.keras.utils import to_categorical\n",
    "from tensorflow.keras.callbacks import EarlyStopping, ModelCheckpoint"
   ]
  },
  {
   "cell_type": "code",
   "execution_count": 2,
   "id": "3627d440",
   "metadata": {},
   "outputs": [
    {
     "name": "stdout",
     "output_type": "stream",
     "text": [
      "[]\n"
     ]
    }
   ],
   "source": [
    "print(tf.config.list_physical_devices('GPU'))"
   ]
  },
  {
   "cell_type": "code",
   "execution_count": 3,
   "id": "91ea6750",
   "metadata": {},
   "outputs": [],
   "source": [
    "#Import svm model\n",
    "from sklearn import svm\n",
    "from sklearn import metrics"
   ]
  },
  {
   "cell_type": "code",
   "execution_count": 4,
   "id": "23176638",
   "metadata": {},
   "outputs": [],
   "source": [
    "import pandas as pd\n",
    "import numpy as np\n",
    "import matplotlib.pyplot as plt\n",
    "from tqdm import tqdm\n",
    "import pickle"
   ]
  },
  {
   "cell_type": "code",
   "execution_count": 5,
   "id": "fa3ea9e0",
   "metadata": {},
   "outputs": [],
   "source": [
    "### 11-class with attention based instance filtering\n",
    "# feat_dir = \"11_class_features_attn_based_instance_filtering\"\n",
    "# files = os.listdir(feat_dir)\n",
    "# files"
   ]
  },
  {
   "cell_type": "code",
   "execution_count": 6,
   "id": "c6258c24",
   "metadata": {},
   "outputs": [],
   "source": [
    "### 5-class (person)\n",
    "# files = [\"feat_backpack.pickle\", \"feat_handbag.pickle\", \"feat_suitcase.pickle\", \"feat_tie.pickle\", \"feat_umbrella.pickle\"]\n",
    "### 3-class (dining table)\n",
    "# why is it 3?\n",
    "# files = [\"feat_full_act_suitcase.pickle\", \"feat_full_act_tie.pickle\", \"feat_full_act_umbrella.pickle\"]"
   ]
  },
  {
   "cell_type": "code",
   "execution_count": 7,
   "id": "bea1f423",
   "metadata": {},
   "outputs": [],
   "source": [
    "def base_model(model=\"NN\", n_classes = 5):\n",
    "    if model == \"NN\":\n",
    "        clf_model = Sequential()\n",
    "        clf_model.add(Input(shape=(768)))\n",
    "        clf_model.add(Dense(256, activation='relu'))\n",
    "        clf_model.add(Dropout(0.5))\n",
    "        clf_model.add(Dense(n_classes))\n",
    "        clf_model.add(Activation(\"softmax\"))\n",
    "    #     sgd = SGD(lr=0.001)\n",
    "        adam = Adam()\n",
    "        clf_model.compile(loss=\"categorical_crossentropy\", optimizer=adam, metrics=[\"accuracy\"])        \n",
    "    else:\n",
    "        clf_model = svm.SVC(kernel='linear') # Linear Kernel\n",
    "    return clf_model"
   ]
  },
  {
   "cell_type": "markdown",
   "id": "2b8bdbe7",
   "metadata": {},
   "source": [
    "### Experiment settings\n"
   ]
  },
  {
   "cell_type": "code",
   "execution_count": 8,
   "id": "5c40e895",
   "metadata": {},
   "outputs": [],
   "source": [
    "EXP_FOLDER = \"experiments\""
   ]
  },
  {
   "cell_type": "code",
   "execution_count": 9,
   "id": "0dde55ec",
   "metadata": {},
   "outputs": [
    {
     "data": {
      "text/plain": [
       "'exp_mask-4-main_thr-0-sec_thr-0'"
      ]
     },
     "execution_count": 9,
     "metadata": {},
     "output_type": "execute_result"
    }
   ],
   "source": [
    "dataset_folder = \"features/features-mask-4-main_thr-0-sec_thr-0/\"\n",
    "exp_name = f\"exp_{dataset_folder[18:-1]}\" \n",
    "exp_name"
   ]
  },
  {
   "cell_type": "code",
   "execution_count": 10,
   "id": "535a7a4c",
   "metadata": {},
   "outputs": [],
   "source": [
    "os.makedirs(os.path.join(EXP_FOLDER, exp_name), exist_ok=True)"
   ]
  },
  {
   "cell_type": "markdown",
   "id": "7b6bab3f",
   "metadata": {},
   "source": [
    "### Dataset preparation"
   ]
  },
  {
   "cell_type": "code",
   "execution_count": 11,
   "id": "08731be0",
   "metadata": {},
   "outputs": [],
   "source": [
    "# None: discard filter\n",
    "# True: filter only features where caption matches object\n",
    "# False: filter only features where caption DOESN'T match object\n",
    "filter_caption = None"
   ]
  },
  {
   "cell_type": "code",
   "execution_count": 12,
   "id": "14d35756",
   "metadata": {},
   "outputs": [
    {
     "data": {
      "text/plain": [
       "['feat-tokens_act-1-27.pickle',\n",
       " 'feat-tokens_act-1-28.pickle',\n",
       " 'feat-tokens_act-1-31.pickle',\n",
       " 'feat-tokens_act-1-32.pickle',\n",
       " 'feat-tokens_act-1-33.pickle']"
      ]
     },
     "execution_count": 12,
     "metadata": {},
     "output_type": "execute_result"
    }
   ],
   "source": [
    "files = os.listdir(dataset_folder)\n",
    "files"
   ]
  },
  {
   "cell_type": "code",
   "execution_count": 13,
   "id": "83794d9f",
   "metadata": {},
   "outputs": [
    {
     "data": {
      "text/html": [
       "<div>\n",
       "<style scoped>\n",
       "    .dataframe tbody tr th:only-of-type {\n",
       "        vertical-align: middle;\n",
       "    }\n",
       "\n",
       "    .dataframe tbody tr th {\n",
       "        vertical-align: top;\n",
       "    }\n",
       "\n",
       "    .dataframe thead th {\n",
       "        text-align: right;\n",
       "    }\n",
       "</style>\n",
       "<table border=\"1\" class=\"dataframe\">\n",
       "  <thead>\n",
       "    <tr style=\"text-align: right;\">\n",
       "      <th></th>\n",
       "      <th>a</th>\n",
       "      <th>b</th>\n",
       "    </tr>\n",
       "  </thead>\n",
       "  <tbody>\n",
       "    <tr>\n",
       "      <th>0</th>\n",
       "      <td>0</td>\n",
       "      <td>True</td>\n",
       "    </tr>\n",
       "    <tr>\n",
       "      <th>1</th>\n",
       "      <td>1</td>\n",
       "      <td>False</td>\n",
       "    </tr>\n",
       "  </tbody>\n",
       "</table>\n",
       "</div>"
      ],
      "text/plain": [
       "   a      b\n",
       "0  0   True\n",
       "1  1  False"
      ]
     },
     "execution_count": 13,
     "metadata": {},
     "output_type": "execute_result"
    }
   ],
   "source": [
    "test_pd = pd.DataFrame({'a': [0,1], 'b': [True, False]})\n",
    "test_pd.sort_values(by=['b'], ascending=False)"
   ]
  },
  {
   "cell_type": "code",
   "execution_count": 14,
   "id": "06bf48ac",
   "metadata": {},
   "outputs": [
    {
     "name": "stdout",
     "output_type": "stream",
     "text": [
      "Processing file 'feat-tokens_act-1-27.pickle'\n",
      "Processing file 'feat-tokens_act-1-28.pickle'\n",
      "Processing file 'feat-tokens_act-1-31.pickle'\n",
      "Processing file 'feat-tokens_act-1-32.pickle'\n",
      "Processing file 'feat-tokens_act-1-33.pickle'\n"
     ]
    }
   ],
   "source": [
    "# files with features and labels are split due to ram limitations\n",
    "# on generation it has to fit ram, and also on reading\n",
    "\n",
    "files = os.listdir(dataset_folder)\n",
    "features = pd.DataFrame()\n",
    "for file in files:\n",
    "    print(f\"Processing file '{file}'\")    \n",
    "    obj_features = pd.read_pickle(os.path.join(dataset_folder, file))\n",
    "    if filter_caption is not None:\n",
    "        print(f\"filter caption is on:{filter_caption}\")\n",
    "        obj_features = obj_features[obj_features[\"caption_filter\"]==filter_caption]\n",
    "    else:\n",
    "        # order by caption filter to make sure there's caption_filter since only a few have\n",
    "        obj_features = obj_features.sort_values(by=['caption_filter'], ascending=False)\n",
    "        obj_features = obj_features.reset_index(drop=True)\n",
    "    obj_features = obj_features[:1000]\n",
    "    features = pd.concat([features, obj_features])\n",
    "\n",
    "features = features.reset_index(drop=True)\n",
    "    # TODO: fix consistent token selection with multiple layers\n",
    "features = features[(~features[\"second_fg_tokens\"].isnull()) & \n",
    "                    (~features[\"main_fg_tokens\"].isnull())\n",
    "#                     (~features[\"second_consistent_fg_token\"].isnull()) &\n",
    "#                     (~features[\"main_consistent_fg_token\"].isnull())\n",
    "                   ]"
   ]
  },
  {
   "cell_type": "code",
   "execution_count": 15,
   "id": "aa0fbb58",
   "metadata": {},
   "outputs": [
    {
     "data": {
      "text/plain": [
       "1010"
      ]
     },
     "execution_count": 15,
     "metadata": {},
     "output_type": "execute_result"
    }
   ],
   "source": [
    "len(features[features[\"caption_filter\"]])"
   ]
  },
  {
   "cell_type": "code",
   "execution_count": 16,
   "id": "39348bb9",
   "metadata": {},
   "outputs": [
    {
     "name": "stdout",
     "output_type": "stream",
     "text": [
      "['backpack', 'handbag', 'suitcase', 'tie', 'umbrella']\n",
      "{'backpack': 0, 'handbag': 1, 'suitcase': 2, 'tie': 3, 'umbrella': 4}\n"
     ]
    },
    {
     "data": {
      "text/plain": [
       "4975"
      ]
     },
     "execution_count": 16,
     "metadata": {},
     "output_type": "execute_result"
    }
   ],
   "source": [
    "labels = features['class'].values.tolist()\n",
    "labels = sorted(list(set(labels)))\n",
    "print(labels)\n",
    "labels_to_idx = dict(zip(labels, range(len(labels))))\n",
    "print(labels_to_idx)\n",
    "\n",
    "features[\"labels\"] = features['class'].apply(lambda x: labels_to_idx[x])\n",
    "features = features.reset_index(drop=True)\n",
    "len(features)   "
   ]
  },
  {
   "cell_type": "code",
   "execution_count": 20,
   "id": "db02aa3f",
   "metadata": {},
   "outputs": [],
   "source": [
    "train_idx, test_idx, train_labels, test_labels = train_test_split(features.index.tolist(), \n",
    "                                                                  features[\"labels\"], \n",
    "                                                                  test_size=0.10, \n",
    "                                                                  stratify=features[\"labels\"],\n",
    "                                                                  random_state=42, \n",
    "                                                                  shuffle=True)   "
   ]
  },
  {
   "cell_type": "markdown",
   "id": "f7ff1a44",
   "metadata": {},
   "source": [
    "### Model training"
   ]
  },
  {
   "cell_type": "code",
   "execution_count": 22,
   "id": "494b435e",
   "metadata": {
    "scrolled": true
   },
   "outputs": [
    {
     "name": "stdout",
     "output_type": "stream",
     "text": [
      "Experiment exp_mask-4-main_thr-0-sec_thr-0 - training model l:9-o:main-s:max_image\n",
      "Restoring model weights from the end of the best epoch: 21.\n",
      "Epoch 41: early stopping\n"
     ]
    },
    {
     "name": "stderr",
     "output_type": "stream",
     "text": [
      "WARNING:absl:Found untraced functions such as _update_step_xla while saving (showing 1 of 1). These functions will not be directly callable after loading.\n"
     ]
    },
    {
     "name": "stdout",
     "output_type": "stream",
     "text": [
      "INFO:tensorflow:Assets written to: experiments/exp_mask-4-main_thr-0-sec_thr-0/model-l9-omain-smax_image/assets\n"
     ]
    },
    {
     "name": "stderr",
     "output_type": "stream",
     "text": [
      "INFO:tensorflow:Assets written to: experiments/exp_mask-4-main_thr-0-sec_thr-0/model-l9-omain-smax_image/assets\n"
     ]
    },
    {
     "name": "stdout",
     "output_type": "stream",
     "text": [
      "Evaluating model...\n",
      "4/4 [==============================] - 0s 2ms/step - loss: 1.6109 - accuracy: 0.2028\n",
      "4/4 [==============================] - 0s 1ms/step\n",
      "[0.   0.   0.77 0.24 0.  ]\n",
      "Done...\n",
      "Experiment exp_mask-4-main_thr-0-sec_thr-0 - training model l:10-o:main-s:max_image\n",
      "Restoring model weights from the end of the best epoch: 2.\n",
      "Epoch 22: early stopping\n"
     ]
    },
    {
     "name": "stderr",
     "output_type": "stream",
     "text": [
      "WARNING:absl:Found untraced functions such as _update_step_xla while saving (showing 1 of 1). These functions will not be directly callable after loading.\n"
     ]
    },
    {
     "name": "stdout",
     "output_type": "stream",
     "text": [
      "INFO:tensorflow:Assets written to: experiments/exp_mask-4-main_thr-0-sec_thr-0/model-l10-omain-smax_image/assets\n"
     ]
    },
    {
     "name": "stderr",
     "output_type": "stream",
     "text": [
      "INFO:tensorflow:Assets written to: experiments/exp_mask-4-main_thr-0-sec_thr-0/model-l10-omain-smax_image/assets\n"
     ]
    },
    {
     "name": "stdout",
     "output_type": "stream",
     "text": [
      "Evaluating model...\n",
      "4/4 [==============================] - 0s 2ms/step - loss: 1.6193 - accuracy: 0.2731\n",
      "4/4 [==============================] - 0s 2ms/step\n",
      "[0.07070707 0.46464646 0.         0.41       0.42      ]\n",
      "Done...\n",
      "Experiment exp_mask-4-main_thr-0-sec_thr-0 - training model l:11-o:main-s:max_image\n",
      "Restoring model weights from the end of the best epoch: 5.\n",
      "Epoch 25: early stopping\n"
     ]
    },
    {
     "name": "stderr",
     "output_type": "stream",
     "text": [
      "WARNING:absl:Found untraced functions such as _update_step_xla while saving (showing 1 of 1). These functions will not be directly callable after loading.\n"
     ]
    },
    {
     "name": "stdout",
     "output_type": "stream",
     "text": [
      "INFO:tensorflow:Assets written to: experiments/exp_mask-4-main_thr-0-sec_thr-0/model-l11-omain-smax_image/assets\n"
     ]
    },
    {
     "name": "stderr",
     "output_type": "stream",
     "text": [
      "INFO:tensorflow:Assets written to: experiments/exp_mask-4-main_thr-0-sec_thr-0/model-l11-omain-smax_image/assets\n"
     ]
    },
    {
     "name": "stdout",
     "output_type": "stream",
     "text": [
      "Evaluating model...\n",
      "4/4 [==============================] - 0s 2ms/step - loss: 1.6046 - accuracy: 0.3614\n",
      "4/4 [==============================] - 0s 2ms/step\n",
      "[0.61616162 0.08080808 0.34       0.28       0.49      ]\n",
      "Done...\n",
      "Experiment exp_mask-4-main_thr-0-sec_thr-0 - training model l:9-o:main-s:max_obj\n",
      "Restoring model weights from the end of the best epoch: 4.\n",
      "Epoch 24: early stopping\n"
     ]
    },
    {
     "name": "stderr",
     "output_type": "stream",
     "text": [
      "WARNING:absl:Found untraced functions such as _update_step_xla while saving (showing 1 of 1). These functions will not be directly callable after loading.\n"
     ]
    },
    {
     "name": "stdout",
     "output_type": "stream",
     "text": [
      "INFO:tensorflow:Assets written to: experiments/exp_mask-4-main_thr-0-sec_thr-0/model-l9-omain-smax_obj/assets\n"
     ]
    },
    {
     "name": "stderr",
     "output_type": "stream",
     "text": [
      "INFO:tensorflow:Assets written to: experiments/exp_mask-4-main_thr-0-sec_thr-0/model-l9-omain-smax_obj/assets\n"
     ]
    },
    {
     "name": "stdout",
     "output_type": "stream",
     "text": [
      "Evaluating model...\n",
      "4/4 [==============================] - 0s 2ms/step - loss: 1.6930 - accuracy: 0.3253\n",
      "4/4 [==============================] - 0s 1ms/step\n",
      "[0.19191919 0.21212121 0.38       0.5        0.34      ]\n",
      "Done...\n",
      "Experiment exp_mask-4-main_thr-0-sec_thr-0 - training model l:10-o:main-s:max_obj\n",
      "Restoring model weights from the end of the best epoch: 5.\n",
      "Epoch 25: early stopping\n"
     ]
    },
    {
     "name": "stderr",
     "output_type": "stream",
     "text": [
      "WARNING:absl:Found untraced functions such as _update_step_xla while saving (showing 1 of 1). These functions will not be directly callable after loading.\n"
     ]
    },
    {
     "name": "stdout",
     "output_type": "stream",
     "text": [
      "INFO:tensorflow:Assets written to: experiments/exp_mask-4-main_thr-0-sec_thr-0/model-l10-omain-smax_obj/assets\n"
     ]
    },
    {
     "name": "stderr",
     "output_type": "stream",
     "text": [
      "INFO:tensorflow:Assets written to: experiments/exp_mask-4-main_thr-0-sec_thr-0/model-l10-omain-smax_obj/assets\n"
     ]
    },
    {
     "name": "stdout",
     "output_type": "stream",
     "text": [
      "Evaluating model...\n",
      "4/4 [==============================] - 0s 2ms/step - loss: 1.6394 - accuracy: 0.3755\n",
      "4/4 [==============================] - 0s 2ms/step\n",
      "[0.29292929 0.16161616 0.42       0.52       0.48      ]\n",
      "Done...\n",
      "Experiment exp_mask-4-main_thr-0-sec_thr-0 - training model l:11-o:main-s:max_obj\n",
      "Restoring model weights from the end of the best epoch: 5.\n",
      "Epoch 25: early stopping\n"
     ]
    },
    {
     "name": "stderr",
     "output_type": "stream",
     "text": [
      "WARNING:absl:Found untraced functions such as _update_step_xla while saving (showing 1 of 1). These functions will not be directly callable after loading.\n"
     ]
    },
    {
     "name": "stdout",
     "output_type": "stream",
     "text": [
      "INFO:tensorflow:Assets written to: experiments/exp_mask-4-main_thr-0-sec_thr-0/model-l11-omain-smax_obj/assets\n"
     ]
    },
    {
     "name": "stderr",
     "output_type": "stream",
     "text": [
      "INFO:tensorflow:Assets written to: experiments/exp_mask-4-main_thr-0-sec_thr-0/model-l11-omain-smax_obj/assets\n"
     ]
    },
    {
     "name": "stdout",
     "output_type": "stream",
     "text": [
      "Evaluating model...\n",
      "4/4 [==============================] - 0s 2ms/step - loss: 1.4273 - accuracy: 0.4378\n",
      "4/4 [==============================] - 0s 2ms/step\n",
      "[0.31313131 0.21212121 0.47       0.62       0.57      ]\n",
      "Done...\n",
      "Experiment exp_mask-4-main_thr-0-sec_thr-0 - training model l:9-o:main-s:min_obj\n",
      "Restoring model weights from the end of the best epoch: 2.\n",
      "Epoch 22: early stopping\n"
     ]
    },
    {
     "name": "stderr",
     "output_type": "stream",
     "text": [
      "WARNING:absl:Found untraced functions such as _update_step_xla while saving (showing 1 of 1). These functions will not be directly callable after loading.\n"
     ]
    },
    {
     "name": "stdout",
     "output_type": "stream",
     "text": [
      "INFO:tensorflow:Assets written to: experiments/exp_mask-4-main_thr-0-sec_thr-0/model-l9-omain-smin_obj/assets\n"
     ]
    },
    {
     "name": "stderr",
     "output_type": "stream",
     "text": [
      "INFO:tensorflow:Assets written to: experiments/exp_mask-4-main_thr-0-sec_thr-0/model-l9-omain-smin_obj/assets\n"
     ]
    },
    {
     "name": "stdout",
     "output_type": "stream",
     "text": [
      "Evaluating model...\n",
      "4/4 [==============================] - 0s 2ms/step - loss: 1.6049 - accuracy: 0.3775\n",
      "4/4 [==============================] - 0s 2ms/step\n",
      "[0.36363636 0.14141414 0.44       0.58       0.36      ]\n",
      "Done...\n",
      "Experiment exp_mask-4-main_thr-0-sec_thr-0 - training model l:10-o:main-s:min_obj\n",
      "Restoring model weights from the end of the best epoch: 3.\n",
      "Epoch 23: early stopping\n"
     ]
    },
    {
     "name": "stderr",
     "output_type": "stream",
     "text": [
      "WARNING:absl:Found untraced functions such as _update_step_xla while saving (showing 1 of 1). These functions will not be directly callable after loading.\n"
     ]
    },
    {
     "name": "stdout",
     "output_type": "stream",
     "text": [
      "INFO:tensorflow:Assets written to: experiments/exp_mask-4-main_thr-0-sec_thr-0/model-l10-omain-smin_obj/assets\n"
     ]
    },
    {
     "name": "stderr",
     "output_type": "stream",
     "text": [
      "INFO:tensorflow:Assets written to: experiments/exp_mask-4-main_thr-0-sec_thr-0/model-l10-omain-smin_obj/assets\n"
     ]
    },
    {
     "name": "stdout",
     "output_type": "stream",
     "text": [
      "Evaluating model...\n",
      "4/4 [==============================] - 0s 2ms/step - loss: 1.4620 - accuracy: 0.3976\n",
      "4/4 [==============================] - 0s 1ms/step\n",
      "[0.28282828 0.13131313 0.38       0.64       0.55      ]\n",
      "Done...\n",
      "Experiment exp_mask-4-main_thr-0-sec_thr-0 - training model l:11-o:main-s:min_obj\n",
      "Restoring model weights from the end of the best epoch: 4.\n",
      "Epoch 24: early stopping\n"
     ]
    },
    {
     "name": "stderr",
     "output_type": "stream",
     "text": [
      "WARNING:absl:Found untraced functions such as _update_step_xla while saving (showing 1 of 1). These functions will not be directly callable after loading.\n"
     ]
    },
    {
     "name": "stdout",
     "output_type": "stream",
     "text": [
      "INFO:tensorflow:Assets written to: experiments/exp_mask-4-main_thr-0-sec_thr-0/model-l11-omain-smin_obj/assets\n"
     ]
    },
    {
     "name": "stderr",
     "output_type": "stream",
     "text": [
      "INFO:tensorflow:Assets written to: experiments/exp_mask-4-main_thr-0-sec_thr-0/model-l11-omain-smin_obj/assets\n"
     ]
    },
    {
     "name": "stdout",
     "output_type": "stream",
     "text": [
      "Evaluating model...\n",
      "4/4 [==============================] - 0s 2ms/step - loss: 1.4160 - accuracy: 0.4578\n",
      "4/4 [==============================] - 0s 1ms/step\n",
      "[0.31313131 0.22222222 0.53       0.6        0.62      ]\n",
      "Done...\n",
      "Experiment exp_mask-4-main_thr-0-sec_thr-0 - training model l:9-o:main-s:random_obj\n",
      "Restoring model weights from the end of the best epoch: 2.\n",
      "Epoch 22: early stopping\n"
     ]
    },
    {
     "name": "stderr",
     "output_type": "stream",
     "text": [
      "WARNING:absl:Found untraced functions such as _update_step_xla while saving (showing 1 of 1). These functions will not be directly callable after loading.\n"
     ]
    },
    {
     "name": "stdout",
     "output_type": "stream",
     "text": [
      "INFO:tensorflow:Assets written to: experiments/exp_mask-4-main_thr-0-sec_thr-0/model-l9-omain-srandom_obj/assets\n"
     ]
    },
    {
     "name": "stderr",
     "output_type": "stream",
     "text": [
      "INFO:tensorflow:Assets written to: experiments/exp_mask-4-main_thr-0-sec_thr-0/model-l9-omain-srandom_obj/assets\n"
     ]
    },
    {
     "name": "stdout",
     "output_type": "stream",
     "text": [
      "Evaluating model...\n",
      "4/4 [==============================] - 0s 2ms/step - loss: 1.6384 - accuracy: 0.3695\n",
      "4/4 [==============================] - 0s 1ms/step\n",
      "[0.26262626 0.26262626 0.3        0.56       0.46      ]\n",
      "Done...\n",
      "Experiment exp_mask-4-main_thr-0-sec_thr-0 - training model l:10-o:main-s:random_obj\n",
      "Restoring model weights from the end of the best epoch: 8.\n",
      "Epoch 28: early stopping\n"
     ]
    },
    {
     "name": "stderr",
     "output_type": "stream",
     "text": [
      "WARNING:absl:Found untraced functions such as _update_step_xla while saving (showing 1 of 1). These functions will not be directly callable after loading.\n"
     ]
    },
    {
     "name": "stdout",
     "output_type": "stream",
     "text": [
      "INFO:tensorflow:Assets written to: experiments/exp_mask-4-main_thr-0-sec_thr-0/model-l10-omain-srandom_obj/assets\n"
     ]
    },
    {
     "name": "stderr",
     "output_type": "stream",
     "text": [
      "INFO:tensorflow:Assets written to: experiments/exp_mask-4-main_thr-0-sec_thr-0/model-l10-omain-srandom_obj/assets\n"
     ]
    },
    {
     "name": "stdout",
     "output_type": "stream",
     "text": [
      "Evaluating model...\n",
      "4/4 [==============================] - 0s 2ms/step - loss: 1.5617 - accuracy: 0.4518\n",
      "4/4 [==============================] - 0s 1ms/step\n",
      "[0.36363636 0.21212121 0.52       0.66       0.5       ]\n",
      "Done...\n",
      "Experiment exp_mask-4-main_thr-0-sec_thr-0 - training model l:11-o:main-s:random_obj\n",
      "Restoring model weights from the end of the best epoch: 5.\n",
      "Epoch 25: early stopping\n"
     ]
    },
    {
     "name": "stderr",
     "output_type": "stream",
     "text": [
      "WARNING:absl:Found untraced functions such as _update_step_xla while saving (showing 1 of 1). These functions will not be directly callable after loading.\n"
     ]
    },
    {
     "name": "stdout",
     "output_type": "stream",
     "text": [
      "INFO:tensorflow:Assets written to: experiments/exp_mask-4-main_thr-0-sec_thr-0/model-l11-omain-srandom_obj/assets\n"
     ]
    },
    {
     "name": "stderr",
     "output_type": "stream",
     "text": [
      "INFO:tensorflow:Assets written to: experiments/exp_mask-4-main_thr-0-sec_thr-0/model-l11-omain-srandom_obj/assets\n"
     ]
    },
    {
     "name": "stdout",
     "output_type": "stream",
     "text": [
      "Evaluating model...\n",
      "4/4 [==============================] - 0s 2ms/step - loss: 1.4689 - accuracy: 0.4819\n",
      "4/4 [==============================] - 0s 2ms/step\n",
      "[0.35353535 0.26262626 0.51       0.67       0.61      ]\n",
      "Done...\n",
      "Experiment exp_mask-4-main_thr-0-sec_thr-0 - training model l:9-o:second-s:max_image\n"
     ]
    },
    {
     "name": "stderr",
     "output_type": "stream",
     "text": [
      "WARNING:absl:Found untraced functions such as _update_step_xla while saving (showing 1 of 1). These functions will not be directly callable after loading.\n"
     ]
    },
    {
     "name": "stdout",
     "output_type": "stream",
     "text": [
      "INFO:tensorflow:Assets written to: experiments/exp_mask-4-main_thr-0-sec_thr-0/model-l9-osecond-smax_image/assets\n"
     ]
    },
    {
     "name": "stderr",
     "output_type": "stream",
     "text": [
      "INFO:tensorflow:Assets written to: experiments/exp_mask-4-main_thr-0-sec_thr-0/model-l9-osecond-smax_image/assets\n"
     ]
    },
    {
     "name": "stdout",
     "output_type": "stream",
     "text": [
      "Evaluating model...\n",
      "4/4 [==============================] - 0s 2ms/step - loss: 1.4907 - accuracy: 0.3614\n",
      "4/4 [==============================] - 0s 2ms/step\n",
      "[0.   0.   0.27 0.74 0.79]\n",
      "Done...\n",
      "Experiment exp_mask-4-main_thr-0-sec_thr-0 - training model l:10-o:second-s:max_image\n",
      "Restoring model weights from the end of the best epoch: 3.\n",
      "Epoch 23: early stopping\n"
     ]
    },
    {
     "name": "stderr",
     "output_type": "stream",
     "text": [
      "WARNING:absl:Found untraced functions such as _update_step_xla while saving (showing 1 of 1). These functions will not be directly callable after loading.\n"
     ]
    },
    {
     "name": "stdout",
     "output_type": "stream",
     "text": [
      "INFO:tensorflow:Assets written to: experiments/exp_mask-4-main_thr-0-sec_thr-0/model-l10-osecond-smax_image/assets\n"
     ]
    },
    {
     "name": "stderr",
     "output_type": "stream",
     "text": [
      "INFO:tensorflow:Assets written to: experiments/exp_mask-4-main_thr-0-sec_thr-0/model-l10-osecond-smax_image/assets\n"
     ]
    },
    {
     "name": "stdout",
     "output_type": "stream",
     "text": [
      "Evaluating model...\n",
      "4/4 [==============================] - 0s 2ms/step - loss: 1.6719 - accuracy: 0.2289\n",
      "4/4 [==============================] - 0s 1ms/step\n",
      "[0.42424242 0.01010101 0.69       0.02       0.        ]\n",
      "Done...\n",
      "Experiment exp_mask-4-main_thr-0-sec_thr-0 - training model l:11-o:second-s:max_image\n",
      "Restoring model weights from the end of the best epoch: 7.\n",
      "Epoch 27: early stopping\n"
     ]
    },
    {
     "name": "stderr",
     "output_type": "stream",
     "text": [
      "WARNING:absl:Found untraced functions such as _update_step_xla while saving (showing 1 of 1). These functions will not be directly callable after loading.\n"
     ]
    },
    {
     "name": "stdout",
     "output_type": "stream",
     "text": [
      "INFO:tensorflow:Assets written to: experiments/exp_mask-4-main_thr-0-sec_thr-0/model-l11-osecond-smax_image/assets\n"
     ]
    },
    {
     "name": "stderr",
     "output_type": "stream",
     "text": [
      "INFO:tensorflow:Assets written to: experiments/exp_mask-4-main_thr-0-sec_thr-0/model-l11-osecond-smax_image/assets\n"
     ]
    },
    {
     "name": "stdout",
     "output_type": "stream",
     "text": [
      "Evaluating model...\n",
      "4/4 [==============================] - 0s 2ms/step - loss: 1.6878 - accuracy: 0.4056\n",
      "4/4 [==============================] - 0s 1ms/step\n",
      "[0.18181818 0.06060606 0.67       0.59       0.52      ]\n",
      "Done...\n",
      "Experiment exp_mask-4-main_thr-0-sec_thr-0 - training model l:9-o:second-s:max_obj\n",
      "Restoring model weights from the end of the best epoch: 5.\n",
      "Epoch 25: early stopping\n"
     ]
    },
    {
     "name": "stderr",
     "output_type": "stream",
     "text": [
      "WARNING:absl:Found untraced functions such as _update_step_xla while saving (showing 1 of 1). These functions will not be directly callable after loading.\n"
     ]
    },
    {
     "name": "stdout",
     "output_type": "stream",
     "text": [
      "INFO:tensorflow:Assets written to: experiments/exp_mask-4-main_thr-0-sec_thr-0/model-l9-osecond-smax_obj/assets\n"
     ]
    },
    {
     "name": "stderr",
     "output_type": "stream",
     "text": [
      "INFO:tensorflow:Assets written to: experiments/exp_mask-4-main_thr-0-sec_thr-0/model-l9-osecond-smax_obj/assets\n"
     ]
    },
    {
     "name": "stdout",
     "output_type": "stream",
     "text": [
      "Evaluating model...\n",
      "4/4 [==============================] - 0s 2ms/step - loss: 1.0461 - accuracy: 0.6345\n",
      "4/4 [==============================] - 0s 1ms/step\n",
      "[0.44444444 0.51515152 0.6        0.78       0.83      ]\n",
      "Done...\n",
      "Experiment exp_mask-4-main_thr-0-sec_thr-0 - training model l:10-o:second-s:max_obj\n",
      "Restoring model weights from the end of the best epoch: 6.\n",
      "Epoch 26: early stopping\n"
     ]
    },
    {
     "name": "stderr",
     "output_type": "stream",
     "text": [
      "WARNING:absl:Found untraced functions such as _update_step_xla while saving (showing 1 of 1). These functions will not be directly callable after loading.\n"
     ]
    },
    {
     "name": "stdout",
     "output_type": "stream",
     "text": [
      "INFO:tensorflow:Assets written to: experiments/exp_mask-4-main_thr-0-sec_thr-0/model-l10-osecond-smax_obj/assets\n"
     ]
    },
    {
     "name": "stderr",
     "output_type": "stream",
     "text": [
      "INFO:tensorflow:Assets written to: experiments/exp_mask-4-main_thr-0-sec_thr-0/model-l10-osecond-smax_obj/assets\n"
     ]
    },
    {
     "name": "stdout",
     "output_type": "stream",
     "text": [
      "Evaluating model...\n",
      "4/4 [==============================] - 0s 2ms/step - loss: 1.0578 - accuracy: 0.6165\n",
      "4/4 [==============================] - 0s 1ms/step\n",
      "[0.43434343 0.44444444 0.66       0.79       0.75      ]\n",
      "Done...\n",
      "Experiment exp_mask-4-main_thr-0-sec_thr-0 - training model l:11-o:second-s:max_obj\n",
      "Restoring model weights from the end of the best epoch: 9.\n",
      "Epoch 29: early stopping\n"
     ]
    },
    {
     "name": "stderr",
     "output_type": "stream",
     "text": [
      "WARNING:absl:Found untraced functions such as _update_step_xla while saving (showing 1 of 1). These functions will not be directly callable after loading.\n"
     ]
    },
    {
     "name": "stdout",
     "output_type": "stream",
     "text": [
      "INFO:tensorflow:Assets written to: experiments/exp_mask-4-main_thr-0-sec_thr-0/model-l11-osecond-smax_obj/assets\n"
     ]
    },
    {
     "name": "stderr",
     "output_type": "stream",
     "text": [
      "INFO:tensorflow:Assets written to: experiments/exp_mask-4-main_thr-0-sec_thr-0/model-l11-osecond-smax_obj/assets\n"
     ]
    },
    {
     "name": "stdout",
     "output_type": "stream",
     "text": [
      "Evaluating model...\n",
      "4/4 [==============================] - 0s 2ms/step - loss: 1.0567 - accuracy: 0.6406\n",
      "4/4 [==============================] - 0s 1ms/step\n",
      "[0.54545455 0.42424242 0.61       0.79       0.83      ]\n",
      "Done...\n",
      "Experiment exp_mask-4-main_thr-0-sec_thr-0 - training model l:9-o:second-s:min_obj\n",
      "Restoring model weights from the end of the best epoch: 4.\n",
      "Epoch 24: early stopping\n"
     ]
    },
    {
     "name": "stderr",
     "output_type": "stream",
     "text": [
      "WARNING:absl:Found untraced functions such as _update_step_xla while saving (showing 1 of 1). These functions will not be directly callable after loading.\n"
     ]
    },
    {
     "name": "stdout",
     "output_type": "stream",
     "text": [
      "INFO:tensorflow:Assets written to: experiments/exp_mask-4-main_thr-0-sec_thr-0/model-l9-osecond-smin_obj/assets\n"
     ]
    },
    {
     "name": "stderr",
     "output_type": "stream",
     "text": [
      "INFO:tensorflow:Assets written to: experiments/exp_mask-4-main_thr-0-sec_thr-0/model-l9-osecond-smin_obj/assets\n"
     ]
    },
    {
     "name": "stdout",
     "output_type": "stream",
     "text": [
      "Evaluating model...\n",
      "4/4 [==============================] - 0s 2ms/step - loss: 1.2170 - accuracy: 0.5663\n",
      "4/4 [==============================] - 0s 2ms/step\n",
      "[0.37373737 0.29292929 0.62       0.76       0.78      ]\n",
      "Done...\n",
      "Experiment exp_mask-4-main_thr-0-sec_thr-0 - training model l:10-o:second-s:min_obj\n",
      "Restoring model weights from the end of the best epoch: 5.\n",
      "Epoch 25: early stopping\n"
     ]
    },
    {
     "name": "stderr",
     "output_type": "stream",
     "text": [
      "WARNING:absl:Found untraced functions such as _update_step_xla while saving (showing 1 of 1). These functions will not be directly callable after loading.\n"
     ]
    },
    {
     "name": "stdout",
     "output_type": "stream",
     "text": [
      "INFO:tensorflow:Assets written to: experiments/exp_mask-4-main_thr-0-sec_thr-0/model-l10-osecond-smin_obj/assets\n"
     ]
    },
    {
     "name": "stderr",
     "output_type": "stream",
     "text": [
      "INFO:tensorflow:Assets written to: experiments/exp_mask-4-main_thr-0-sec_thr-0/model-l10-osecond-smin_obj/assets\n"
     ]
    },
    {
     "name": "stdout",
     "output_type": "stream",
     "text": [
      "Evaluating model...\n",
      "4/4 [==============================] - 0s 2ms/step - loss: 1.3167 - accuracy: 0.5382\n",
      "4/4 [==============================] - 0s 2ms/step\n",
      "[0.44444444 0.27272727 0.56       0.68       0.73      ]\n",
      "Done...\n",
      "Experiment exp_mask-4-main_thr-0-sec_thr-0 - training model l:11-o:second-s:min_obj\n",
      "Restoring model weights from the end of the best epoch: 4.\n",
      "Epoch 24: early stopping\n"
     ]
    },
    {
     "name": "stderr",
     "output_type": "stream",
     "text": [
      "WARNING:absl:Found untraced functions such as _update_step_xla while saving (showing 1 of 1). These functions will not be directly callable after loading.\n"
     ]
    },
    {
     "name": "stdout",
     "output_type": "stream",
     "text": [
      "INFO:tensorflow:Assets written to: experiments/exp_mask-4-main_thr-0-sec_thr-0/model-l11-osecond-smin_obj/assets\n"
     ]
    },
    {
     "name": "stderr",
     "output_type": "stream",
     "text": [
      "INFO:tensorflow:Assets written to: experiments/exp_mask-4-main_thr-0-sec_thr-0/model-l11-osecond-smin_obj/assets\n"
     ]
    },
    {
     "name": "stdout",
     "output_type": "stream",
     "text": [
      "Evaluating model...\n",
      "4/4 [==============================] - 0s 2ms/step - loss: 1.1374 - accuracy: 0.5944\n",
      "4/4 [==============================] - 0s 1ms/step\n",
      "[0.4040404  0.37373737 0.65       0.73       0.81      ]\n",
      "Done...\n",
      "Experiment exp_mask-4-main_thr-0-sec_thr-0 - training model l:9-o:second-s:random_obj\n",
      "Restoring model weights from the end of the best epoch: 9.\n",
      "Epoch 29: early stopping\n"
     ]
    },
    {
     "name": "stderr",
     "output_type": "stream",
     "text": [
      "WARNING:absl:Found untraced functions such as _update_step_xla while saving (showing 1 of 1). These functions will not be directly callable after loading.\n"
     ]
    },
    {
     "name": "stdout",
     "output_type": "stream",
     "text": [
      "INFO:tensorflow:Assets written to: experiments/exp_mask-4-main_thr-0-sec_thr-0/model-l9-osecond-srandom_obj/assets\n"
     ]
    },
    {
     "name": "stderr",
     "output_type": "stream",
     "text": [
      "INFO:tensorflow:Assets written to: experiments/exp_mask-4-main_thr-0-sec_thr-0/model-l9-osecond-srandom_obj/assets\n"
     ]
    },
    {
     "name": "stdout",
     "output_type": "stream",
     "text": [
      "Evaluating model...\n",
      "4/4 [==============================] - 0s 2ms/step - loss: 1.0516 - accuracy: 0.6386\n",
      "4/4 [==============================] - 0s 1ms/step\n",
      "[0.49494949 0.38383838 0.69       0.79       0.83      ]\n",
      "Done...\n",
      "Experiment exp_mask-4-main_thr-0-sec_thr-0 - training model l:10-o:second-s:random_obj\n",
      "Restoring model weights from the end of the best epoch: 2.\n",
      "Epoch 22: early stopping\n"
     ]
    },
    {
     "name": "stderr",
     "output_type": "stream",
     "text": [
      "WARNING:absl:Found untraced functions such as _update_step_xla while saving (showing 1 of 1). These functions will not be directly callable after loading.\n"
     ]
    },
    {
     "name": "stdout",
     "output_type": "stream",
     "text": [
      "INFO:tensorflow:Assets written to: experiments/exp_mask-4-main_thr-0-sec_thr-0/model-l10-osecond-srandom_obj/assets\n"
     ]
    },
    {
     "name": "stderr",
     "output_type": "stream",
     "text": [
      "INFO:tensorflow:Assets written to: experiments/exp_mask-4-main_thr-0-sec_thr-0/model-l10-osecond-srandom_obj/assets\n"
     ]
    },
    {
     "name": "stdout",
     "output_type": "stream",
     "text": [
      "Evaluating model...\n",
      "4/4 [==============================] - 0s 2ms/step - loss: 1.0620 - accuracy: 0.6185\n",
      "4/4 [==============================] - 0s 2ms/step\n",
      "[0.44444444 0.33333333 0.7        0.79       0.82      ]\n",
      "Done...\n",
      "Experiment exp_mask-4-main_thr-0-sec_thr-0 - training model l:11-o:second-s:random_obj\n",
      "Restoring model weights from the end of the best epoch: 5.\n",
      "Epoch 25: early stopping\n"
     ]
    },
    {
     "name": "stderr",
     "output_type": "stream",
     "text": [
      "WARNING:absl:Found untraced functions such as _update_step_xla while saving (showing 1 of 1). These functions will not be directly callable after loading.\n"
     ]
    },
    {
     "name": "stdout",
     "output_type": "stream",
     "text": [
      "INFO:tensorflow:Assets written to: experiments/exp_mask-4-main_thr-0-sec_thr-0/model-l11-osecond-srandom_obj/assets\n"
     ]
    },
    {
     "name": "stderr",
     "output_type": "stream",
     "text": [
      "INFO:tensorflow:Assets written to: experiments/exp_mask-4-main_thr-0-sec_thr-0/model-l11-osecond-srandom_obj/assets\n"
     ]
    },
    {
     "name": "stdout",
     "output_type": "stream",
     "text": [
      "Evaluating model...\n",
      "4/4 [==============================] - 0s 2ms/step - loss: 1.0127 - accuracy: 0.6265\n",
      "4/4 [==============================] - 0s 1ms/step\n",
      "[0.41414141 0.38383838 0.65       0.84       0.84      ]\n",
      "Done...\n"
     ]
    }
   ],
   "source": [
    "token_strategies = ['max_image', 'max_obj', 'min_obj', 'random_obj']\n",
    "# layers = [3,4,9,10,11]\n",
    "layers = [9,10,11]\n",
    "objects = ['main', 'second']\n",
    "model = \"NN\"\n",
    "          \n",
    "\n",
    "if model==\"NN\":\n",
    "    train_y = to_categorical(train_labels)\n",
    "    test_y = to_categorical(test_labels)\n",
    "else:\n",
    "    train_y = train_labels\n",
    "    test_y = test_labels\n",
    "\n",
    "histories = {}\n",
    "test_scores = {}\n",
    "class_scores = {}\n",
    "\n",
    "for obj in objects:\n",
    "    for strategy in token_strategies:\n",
    "        for layer in layers:\n",
    "            train_data = features.filter(items=train_idx, axis=0)[f\"{obj}_fg_tokens_act\"].apply(lambda x: x[layer][strategy]).to_numpy()\n",
    "            test_data = features.filter(items=test_idx, axis=0)[f\"{obj}_fg_tokens_act\"].apply(lambda x: x[layer][strategy]).to_numpy()\n",
    "            \n",
    "            clf_model = base_model(model, n_classes=len(labels))\n",
    "            print(f\"Experiment {exp_name} - training model l:{layer}-o:{obj}-s:{strategy}\")\n",
    "            if model == \"NN\":\n",
    "                es = EarlyStopping(monitor='val_loss', mode='min', verbose=1, patience=20, restore_best_weights=True)        \n",
    "                hist = clf_model.fit(tf.stack(train_data), \n",
    "                                     tf.stack(train_y), \n",
    "                                     validation_split=0.10,\n",
    "                                     epochs=60, \n",
    "                                     batch_size=128, \n",
    "                                     callbacks=[es],\n",
    "                                     verbose=0)\n",
    "                # save model\n",
    "                clf_model.save(os.path.join(EXP_FOLDER, exp_name, f\"model-l{layer}-o{obj}-s{strategy}\"))\n",
    "                histories[f\"{layer}-{obj}-{strategy}\"] = hist\n",
    "                # Save raw loss and acc from \"hist\" object to recreate plots\n",
    "                with open(f\"{EXP_FOLDER}/{exp_name}/model_l-{layer}_o-{obj}_t-{strategy}_history.pickle\", 'wb') as handle:\n",
    "                    pickle.dump(hist.history, handle)\n",
    "                print(\"Evaluating model...\")                \n",
    "                test_scores[f\"{layer}-{obj}-{strategy}\"] = clf_model.evaluate(tf.stack(test_data), \n",
    "                                                                              tf.stack(test_y), \n",
    "                                                                              batch_size=128)\n",
    "                #TODO: Evaluation per class using saved preds\n",
    "                preds = clf_model.predict(tf.stack(test_data), batch_size=128)\n",
    "                np.save(os.path.join(EXP_FOLDER, exp_name, f\"preds_l-{layer}_o-{obj}_t-{strategy}.npy\"), preds)\n",
    "                y_pred = np.argmax(preds, axis=1)\n",
    "                matrix = confusion_matrix(test_labels, y_pred)\n",
    "                print(matrix.diagonal()/matrix.sum(axis=1))\n",
    "                class_scores[f\"{layer}-{obj}-{strategy}\"] = matrix.diagonal()/matrix.sum(axis=1)\n",
    "                print(\"Done...\")\n",
    "            else: \n",
    "                clf_model.fit(np.stack(train_data), train_y)\n",
    "                y_pred = clf_model.predict(np.stack(test_data))\n",
    "                test_scores[f\"{layer}-{obj}-{strategy}\"] = metrics.accuracy_score(test_labels, y_pred)"
   ]
  },
  {
   "cell_type": "code",
   "execution_count": 31,
   "id": "585779e3",
   "metadata": {},
   "outputs": [
    {
     "data": {
      "text/plain": [
       "0.0"
      ]
     },
     "execution_count": 31,
     "metadata": {},
     "output_type": "execute_result"
    }
   ],
   "source": [
    "class_scores['9-main-max_image'][0]"
   ]
  },
  {
   "cell_type": "code",
   "execution_count": null,
   "id": "47581f22",
   "metadata": {
    "scrolled": true
   },
   "outputs": [],
   "source": [
    "fig, axs = plt.subplots(nrows=len(histories), ncols=2, figsize=(8, 4*len(histories)))\n",
    "for idx, (layer_name, hist) in enumerate(histories.items()):\n",
    "    axs[idx, 0].plot(hist.history['loss'])\n",
    "    axs[idx, 0].plot(hist.history['val_loss'])\n",
    "    axs[idx, 0].set_title(f'{layer_name} loss')\n",
    "#     axs[idx, 0].ylabel('loss')\n",
    "#     axs[idx, 0].xlabel('epoch')\n",
    "    axs[idx, 0].legend(['train', 'val'], loc='upper left')\n",
    "\n",
    "    axs[idx, 1].plot(hist.history['accuracy'])\n",
    "    axs[idx, 1].plot(hist.history['val_accuracy'])\n",
    "    axs[idx, 1].set_title(f'{layer_name} accuracy')\n",
    "#     axs[idx, 1].ylabel('accuracy')\n",
    "#     axs[idx, 1].xlabel('epoch')\n",
    "    axs[idx, 1].legend(['train', 'val'], loc='upper left')\n",
    "\n",
    "plt.savefig(fname=f\"{EXP_FOLDER}/{exp_name}/training_curves.png\")\n",
    "plt.show()\n",
    "plt.close('all')"
   ]
  },
  {
   "cell_type": "markdown",
   "id": "b4bdaeb5",
   "metadata": {},
   "source": [
    "### Classification task summary:\n",
    "* Number of instances per tuple, before cleaning. **Total 5 classes**.\n",
    "    * (1, 27) ('person', 'backpack'): 3524\n",
    "    * (1, 28) ('person', 'umbrella'): 2089\n",
    "    * (1, 31) ('person', 'handbag'): 4890\n",
    "    * (1, 32) ('person', 'tie'): 1543\n",
    "    * (1, 33) ('person', 'suitcase'): 1048\n",
    "* I had to limit the number of instances processed to 1000 because the extracted Tensor (hiddden states from 3 layers) became too big (5GB per tuple)\n",
    "* from 5000 images, there were some issues with token selection and in the end **I was able to extract 2969 hidden states.**\n",
    "    * these hidden states are from layers 10, 11 e 12 (3 last layers)\n",
    "    * 10% split to test, 10% for validation\n",
    "* Then, 30 NN were trained with the follow configurations:\n",
    "    * 5 token_strategies = `[\"consistent\", 'max_image', 'max_obj', 'min_obj', 'random_obj']`\n",
    "        * `consistent`: consistent token which gets maximum activation across several layers within the foreground mask. One token per image.\n",
    "        * `'max_obj', 'min_obj', 'random_obj'`: One token max/min/random **per layer** 10/11/12 within the foreground mask. 3 tokens per image, one for each one of the last 3 layers.\n",
    "        * `'max_image'`: Token that gets maximum attention in the *whole image* .\n",
    "    * 3 different layers (10,11,12): The hidden state to be used as input for the decoding task. \n",
    "    * 2 different objects: MAIN, SECOND.\n",
    "        * a model is trained for each one of the 15 combinations of token * layer for the `MAIN` object and `SECOND` object.\n",
    "        \n",
    "**TOTAL OF 30 models**"
   ]
  },
  {
   "cell_type": "code",
   "execution_count": null,
   "id": "4c5a6726",
   "metadata": {},
   "outputs": [],
   "source": [
    "def save_test_scores(scores, filename):\n",
    "    scores_pd = {'model_name': [], 'object': [], 'token_strategy': [], 'hidden_state_layer': [], 'loss': [], 'test_score': []}\n",
    "    for model_name, score in scores.items():\n",
    "        scores_pd['model_name'].append(model_name)\n",
    "        scores_pd['hidden_state_layer'].append(int(model_name[:model_name.find('-')]))\n",
    "        scores_pd['object'].append(model_name[model_name.find('-')+1:model_name.rfind('-')])\n",
    "        scores_pd['token_strategy'].append(model_name[model_name.rfind('-')+1:])\n",
    "        scores_pd['loss'].append(score[0])\n",
    "        scores_pd['test_score'].append(score[1])\n",
    "\n",
    "    scores_pd = pd.DataFrame(scores_pd)\n",
    "    scores_pd.to_csv(filename, index=False)\n",
    "    return scores_pd\n",
    "\n",
    "save_test_scores(test_scores, f\"{EXP_FOLDER}/{exp_name}/test_scores.csv\")"
   ]
  },
  {
   "cell_type": "code",
   "execution_count": null,
   "id": "5c72f584",
   "metadata": {},
   "outputs": [],
   "source": []
  },
  {
   "cell_type": "code",
   "execution_count": null,
   "id": "99aa7a1c",
   "metadata": {},
   "outputs": [],
   "source": [
    "# plt.bar(x=scores_pd[(scores_pd[\"token_strategy\"]==\"max_obj\") & (scores_pd[\"object\"]==\"main\")][\"hidden_state_layer\"], \n",
    "#         height=scores_pd[(scores_pd[\"token_strategy\"]==\"max_obj\") & (scores_pd[\"object\"]==\"main\")][\"test_score\"], label=\"main-obj_max-act\")\n",
    "# plt.bar(x=scores_pd[(scores_pd[\"token_strategy\"]==\"min_obj\") & (scores_pd[\"object\"]==\"main\")][\"hidden_state_layer\"], \n",
    "#         height=scores_pd[(scores_pd[\"token_strategy\"]==\"min_obj\") & (scores_pd[\"object\"]==\"main\")][\"test_score\"], label=\"main-obj_min-act\")\n",
    "# plt.bar(x=scores_pd[(scores_pd[\"token_strategy\"]==\"random_obj\") & (scores_pd[\"object\"]==\"main\")][\"hidden_state_layer\"], \n",
    "#         height=scores_pd[(scores_pd[\"token_strategy\"]==\"random_obj\") & (scores_pd[\"object\"]==\"main\")][\"test_score\"], label=\"main-obj_random-obj-act\")\n",
    "# plt.bar(x=scores_pd[(scores_pd[\"token_strategy\"]==\"max_image\") & (scores_pd[\"object\"]==\"main\")][\"hidden_state_layer\"], \n",
    "#         height=scores_pd[(scores_pd[\"token_strategy\"]==\"max_image\") & (scores_pd[\"object\"]==\"main\")][\"test_score\"], label=\"main-obj_max-img-act\")\n",
    "\n",
    "# plt.xticks(rotation=85) \n",
    "# plt.legend()\n",
    "# plt.show()"
   ]
  },
  {
   "cell_type": "code",
   "execution_count": null,
   "id": "5272ef41",
   "metadata": {},
   "outputs": [],
   "source": [
    "plt.figure(figsize=(12,8))\n",
    "plt.plot(scores_pd[(scores_pd[\"token_strategy\"]==\"max_obj\") & (scores_pd[\"object\"]==\"main\")][\"hidden_state_layer\"], \n",
    "         scores_pd[(scores_pd[\"token_strategy\"]==\"max_obj\") & (scores_pd[\"object\"]==\"main\")][\"test_score\"], label=\"main-obj_max-act\")\n",
    "plt.plot(scores_pd[(scores_pd[\"token_strategy\"]==\"min_obj\") & (scores_pd[\"object\"]==\"main\")][\"hidden_state_layer\"], \n",
    "         scores_pd[(scores_pd[\"token_strategy\"]==\"min_obj\") & (scores_pd[\"object\"]==\"main\")][\"test_score\"], label=\"main-obj_min-act\")\n",
    "plt.plot(scores_pd[(scores_pd[\"token_strategy\"]==\"random_obj\") & (scores_pd[\"object\"]==\"main\")][\"hidden_state_layer\"], \n",
    "         scores_pd[(scores_pd[\"token_strategy\"]==\"random_obj\") & (scores_pd[\"object\"]==\"main\")][\"test_score\"], label=\"main-obj_random-obj-act\")\n",
    "plt.plot(scores_pd[(scores_pd[\"token_strategy\"]==\"max_image\") & (scores_pd[\"object\"]==\"main\")][\"hidden_state_layer\"], \n",
    "         scores_pd[(scores_pd[\"token_strategy\"]==\"max_image\") & (scores_pd[\"object\"]==\"main\")][\"test_score\"], label=\"main-obj_max-img-act\")\n",
    "\n",
    "plt.plot(scores_pd[(scores_pd[\"token_strategy\"]==\"max_obj\") & (scores_pd[\"object\"]==\"second\")][\"hidden_state_layer\"], \n",
    "         scores_pd[(scores_pd[\"token_strategy\"]==\"max_obj\") & (scores_pd[\"object\"]==\"second\")][\"test_score\"], label=\"second-obj_max-act\", linestyle='dashed')\n",
    "plt.plot(scores_pd[(scores_pd[\"token_strategy\"]==\"min_obj\") & (scores_pd[\"object\"]==\"second\")][\"hidden_state_layer\"], \n",
    "         scores_pd[(scores_pd[\"token_strategy\"]==\"min_obj\") & (scores_pd[\"object\"]==\"second\")][\"test_score\"], label=\"second-obj_min-act\", linestyle='dashed')\n",
    "plt.plot(scores_pd[(scores_pd[\"token_strategy\"]==\"random_obj\") & (scores_pd[\"object\"]==\"second\")][\"hidden_state_layer\"], \n",
    "         scores_pd[(scores_pd[\"token_strategy\"]==\"random_obj\") & (scores_pd[\"object\"]==\"second\")][\"test_score\"], label=\"second-obj_random-obj-act\", linestyle='dashed')\n",
    "plt.plot(scores_pd[(scores_pd[\"token_strategy\"]==\"max_image\") & (scores_pd[\"object\"]==\"second\")][\"hidden_state_layer\"], \n",
    "         scores_pd[(scores_pd[\"token_strategy\"]==\"max_image\") & (scores_pd[\"object\"]==\"second\")][\"test_score\"], label=\"second-obj_max-img-act\", linestyle='dashed')\n",
    "\n",
    "plt.xticks(rotation=85) \n",
    "plt.legend()\n",
    "plt.show()"
   ]
  },
  {
   "cell_type": "code",
   "execution_count": null,
   "id": "95ef0b8d",
   "metadata": {},
   "outputs": [],
   "source": []
  },
  {
   "cell_type": "code",
   "execution_count": null,
   "id": "5dfa011b",
   "metadata": {},
   "outputs": [],
   "source": [
    "# scores_pd = scores_pd.rename(columns={\"test_score\": \"NN_test_score\"})\n",
    "# scores_pd[\"SVM_test_score\"] = list(test_scores.values())\n"
   ]
  },
  {
   "cell_type": "code",
   "execution_count": null,
   "id": "35146a98",
   "metadata": {},
   "outputs": [],
   "source": [
    "    "
   ]
  },
  {
   "cell_type": "code",
   "execution_count": null,
   "id": "c0b6cae8",
   "metadata": {},
   "outputs": [],
   "source": []
  }
 ],
 "metadata": {
  "kernelspec": {
   "display_name": "Python 3 (ipykernel)",
   "language": "python",
   "name": "python3"
  },
  "language_info": {
   "codemirror_mode": {
    "name": "ipython",
    "version": 3
   },
   "file_extension": ".py",
   "mimetype": "text/x-python",
   "name": "python",
   "nbconvert_exporter": "python",
   "pygments_lexer": "ipython3",
   "version": "3.9.0"
  }
 },
 "nbformat": 4,
 "nbformat_minor": 5
}
