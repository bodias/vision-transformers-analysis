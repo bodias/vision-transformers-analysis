{
 "cells": [
  {
   "cell_type": "code",
   "execution_count": 2,
   "id": "d88319c4",
   "metadata": {},
   "outputs": [
    {
     "name": "stdout",
     "output_type": "stream",
     "text": [
      "Collecting tensorflow\n",
      "  Downloading tensorflow-2.11.0-cp37-cp37m-manylinux_2_17_x86_64.manylinux2014_x86_64.whl (588.3 MB)\n",
      "\u001b[2K     \u001b[90m━━━━━━━━━━━━━━━━━━━━━━━━━━━━━━━━━━━━━━━\u001b[0m \u001b[32m588.3/588.3 MB\u001b[0m \u001b[31m1.5 MB/s\u001b[0m eta \u001b[36m0:00:00\u001b[0m00:01\u001b[0m00:02\u001b[0m\n",
      "\u001b[?25hCollecting google-pasta>=0.1.1\n",
      "  Downloading google_pasta-0.2.0-py3-none-any.whl (57 kB)\n",
      "\u001b[2K     \u001b[90m━━━━━━━━━━━━━━━━━━━━━━━━━━━━━━━━━━━━━━━━\u001b[0m \u001b[32m57.5/57.5 kB\u001b[0m \u001b[31m7.7 MB/s\u001b[0m eta \u001b[36m0:00:00\u001b[0m\n",
      "\u001b[?25hCollecting gast<=0.4.0,>=0.2.1\n",
      "  Downloading gast-0.4.0-py3-none-any.whl (9.8 kB)\n",
      "Requirement already satisfied: packaging in /home/braian/anaconda3/envs/thesis/lib/python3.7/site-packages (from tensorflow) (23.0)\n",
      "Collecting h5py>=2.9.0\n",
      "  Downloading h5py-3.8.0-cp37-cp37m-manylinux_2_17_x86_64.manylinux2014_x86_64.whl (4.3 MB)\n",
      "\u001b[2K     \u001b[90m━━━━━━━━━━━━━━━━━━━━━━━━━━━━━━━━━━━━━━━━\u001b[0m \u001b[32m4.3/4.3 MB\u001b[0m \u001b[31m7.4 MB/s\u001b[0m eta \u001b[36m0:00:00\u001b[0m00:01\u001b[0m00:01\u001b[0mm\n",
      "\u001b[?25hCollecting termcolor>=1.1.0\n",
      "  Downloading termcolor-2.2.0-py3-none-any.whl (6.6 kB)\n",
      "Collecting wrapt>=1.11.0\n",
      "  Downloading wrapt-1.15.0-cp37-cp37m-manylinux_2_5_x86_64.manylinux1_x86_64.manylinux_2_17_x86_64.manylinux2014_x86_64.whl (75 kB)\n",
      "\u001b[2K     \u001b[90m━━━━━━━━━━━━━━━━━━━━━━━━━━━━━━━━━━━━━━━━\u001b[0m \u001b[32m75.7/75.7 kB\u001b[0m \u001b[31m9.7 MB/s\u001b[0m eta \u001b[36m0:00:00\u001b[0m\n",
      "\u001b[?25hRequirement already satisfied: numpy>=1.20 in /home/braian/anaconda3/envs/thesis/lib/python3.7/site-packages (from tensorflow) (1.21.6)\n",
      "Collecting opt-einsum>=2.3.2\n",
      "  Downloading opt_einsum-3.3.0-py3-none-any.whl (65 kB)\n",
      "\u001b[2K     \u001b[90m━━━━━━━━━━━━━━━━━━━━━━━━━━━━━━━━━━━━━━━━\u001b[0m \u001b[32m65.5/65.5 kB\u001b[0m \u001b[31m8.7 MB/s\u001b[0m eta \u001b[36m0:00:00\u001b[0m\n",
      "\u001b[?25hRequirement already satisfied: six>=1.12.0 in /home/braian/anaconda3/envs/thesis/lib/python3.7/site-packages (from tensorflow) (1.16.0)\n",
      "Collecting grpcio<2.0,>=1.24.3\n",
      "  Downloading grpcio-1.51.3-cp37-cp37m-manylinux_2_17_x86_64.manylinux2014_x86_64.whl (4.8 MB)\n",
      "\u001b[2K     \u001b[90m━━━━━━━━━━━━━━━━━━━━━━━━━━━━━━━━━━━━━━━━\u001b[0m \u001b[32m4.8/4.8 MB\u001b[0m \u001b[31m11.5 MB/s\u001b[0m eta \u001b[36m0:00:00\u001b[0ma \u001b[36m0:00:01\u001b[0m\n",
      "\u001b[?25hCollecting libclang>=13.0.0\n",
      "  Downloading libclang-15.0.6.1-py2.py3-none-manylinux2010_x86_64.whl (21.5 MB)\n",
      "\u001b[2K     \u001b[90m━━━━━━━━━━━━━━━━━━━━━━━━━━━━━━━━━━━━━━━━\u001b[0m \u001b[32m21.5/21.5 MB\u001b[0m \u001b[31m10.6 MB/s\u001b[0m eta \u001b[36m0:00:00\u001b[0m00:01\u001b[0m00:01\u001b[0m\n",
      "\u001b[?25hCollecting keras<2.12,>=2.11.0\n",
      "  Downloading keras-2.11.0-py2.py3-none-any.whl (1.7 MB)\n",
      "\u001b[2K     \u001b[90m━━━━━━━━━━━━━━━━━━━━━━━━━━━━━━━━━━━━━━━━\u001b[0m \u001b[32m1.7/1.7 MB\u001b[0m \u001b[31m10.4 MB/s\u001b[0m eta \u001b[36m0:00:00\u001b[0ma \u001b[36m0:00:01\u001b[0m\n",
      "\u001b[?25hCollecting tensorboard<2.12,>=2.11\n",
      "  Downloading tensorboard-2.11.2-py3-none-any.whl (6.0 MB)\n",
      "\u001b[2K     \u001b[90m━━━━━━━━━━━━━━━━━━━━━━━━━━━━━━━━━━━━━━━━\u001b[0m \u001b[32m6.0/6.0 MB\u001b[0m \u001b[31m11.4 MB/s\u001b[0m eta \u001b[36m0:00:00\u001b[0m00:01\u001b[0m00:01\u001b[0m\n",
      "\u001b[?25hCollecting protobuf<3.20,>=3.9.2\n",
      "  Downloading protobuf-3.19.6-cp37-cp37m-manylinux_2_17_x86_64.manylinux2014_x86_64.whl (1.1 MB)\n",
      "\u001b[2K     \u001b[90m━━━━━━━━━━━━━━━━━━━━━━━━━━━━━━━━━━━━━━━━\u001b[0m \u001b[32m1.1/1.1 MB\u001b[0m \u001b[31m10.8 MB/s\u001b[0m eta \u001b[36m0:00:00\u001b[0ma \u001b[36m0:00:01\u001b[0m\n",
      "\u001b[?25hCollecting tensorflow-estimator<2.12,>=2.11.0\n",
      "  Downloading tensorflow_estimator-2.11.0-py2.py3-none-any.whl (439 kB)\n",
      "\u001b[2K     \u001b[90m━━━━━━━━━━━━━━━━━━━━━━━━━━━━━━━━━━━━━━\u001b[0m \u001b[32m439.2/439.2 kB\u001b[0m \u001b[31m14.0 MB/s\u001b[0m eta \u001b[36m0:00:00\u001b[0m\n",
      "\u001b[?25hRequirement already satisfied: setuptools in /home/braian/anaconda3/envs/thesis/lib/python3.7/site-packages (from tensorflow) (65.6.3)\n",
      "Collecting tensorflow-io-gcs-filesystem>=0.23.1\n",
      "  Downloading tensorflow_io_gcs_filesystem-0.31.0-cp37-cp37m-manylinux_2_12_x86_64.manylinux2010_x86_64.whl (2.4 MB)\n",
      "\u001b[2K     \u001b[90m━━━━━━━━━━━━━━━━━━━━━━━━━━━━━━━━━━━━━━━━\u001b[0m \u001b[32m2.4/2.4 MB\u001b[0m \u001b[31m12.1 MB/s\u001b[0m eta \u001b[36m0:00:00\u001b[0ma \u001b[36m0:00:01\u001b[0m\n",
      "\u001b[?25hCollecting absl-py>=1.0.0\n",
      "  Downloading absl_py-1.4.0-py3-none-any.whl (126 kB)\n",
      "\u001b[2K     \u001b[90m━━━━━━━━━━━━━━━━━━━━━━━━━━━━━━━━━━━━━━━\u001b[0m \u001b[32m126.5/126.5 kB\u001b[0m \u001b[31m8.8 MB/s\u001b[0m eta \u001b[36m0:00:00\u001b[0m\n",
      "\u001b[?25hCollecting astunparse>=1.6.0\n",
      "  Downloading astunparse-1.6.3-py2.py3-none-any.whl (12 kB)\n",
      "Collecting flatbuffers>=2.0\n",
      "  Downloading flatbuffers-23.3.3-py2.py3-none-any.whl (26 kB)\n",
      "Requirement already satisfied: typing-extensions>=3.6.6 in /home/braian/anaconda3/envs/thesis/lib/python3.7/site-packages (from tensorflow) (4.4.0)\n",
      "Requirement already satisfied: wheel<1.0,>=0.23.0 in /home/braian/anaconda3/envs/thesis/lib/python3.7/site-packages (from astunparse>=1.6.0->tensorflow) (0.37.1)\n",
      "Collecting markdown>=2.6.8\n",
      "  Downloading Markdown-3.4.1-py3-none-any.whl (93 kB)\n",
      "\u001b[2K     \u001b[90m━━━━━━━━━━━━━━━━━━━━━━━━━━━━━━━━━━━━━━━━\u001b[0m \u001b[32m93.3/93.3 kB\u001b[0m \u001b[31m12.9 MB/s\u001b[0m eta \u001b[36m0:00:00\u001b[0m\n",
      "\u001b[?25hCollecting google-auth-oauthlib<0.5,>=0.4.1\n",
      "  Downloading google_auth_oauthlib-0.4.6-py2.py3-none-any.whl (18 kB)\n",
      "Collecting tensorboard-plugin-wit>=1.6.0\n",
      "  Downloading tensorboard_plugin_wit-1.8.1-py3-none-any.whl (781 kB)\n",
      "\u001b[2K     \u001b[90m━━━━━━━━━━━━━━━━━━━━━━━━━━━━━━━━━━━━━━\u001b[0m \u001b[32m781.3/781.3 kB\u001b[0m \u001b[31m14.3 MB/s\u001b[0m eta \u001b[36m0:00:00\u001b[0ma \u001b[36m0:00:01\u001b[0m\n",
      "\u001b[?25hCollecting werkzeug>=1.0.1\n",
      "  Downloading Werkzeug-2.2.3-py3-none-any.whl (233 kB)\n",
      "\u001b[2K     \u001b[90m━━━━━━━━━━━━━━━━━━━━━━━━━━━━━━━━━━━━━━\u001b[0m \u001b[32m233.6/233.6 kB\u001b[0m \u001b[31m12.2 MB/s\u001b[0m eta \u001b[36m0:00:00\u001b[0m\n",
      "\u001b[?25hCollecting google-auth<3,>=1.6.3\n",
      "  Downloading google_auth-2.16.2-py2.py3-none-any.whl (177 kB)\n",
      "\u001b[2K     \u001b[90m━━━━━━━━━━━━━━━━━━━━━━━━━━━━━━━━━━━━━━\u001b[0m \u001b[32m177.2/177.2 kB\u001b[0m \u001b[31m12.9 MB/s\u001b[0m eta \u001b[36m0:00:00\u001b[0m\n",
      "\u001b[?25hCollecting tensorboard-data-server<0.7.0,>=0.6.0\n",
      "  Downloading tensorboard_data_server-0.6.1-py3-none-manylinux2010_x86_64.whl (4.9 MB)\n",
      "\u001b[2K     \u001b[90m━━━━━━━━━━━━━━━━━━━━━━━━━━━━━━━━━━━━━━━━\u001b[0m \u001b[32m4.9/4.9 MB\u001b[0m \u001b[31m11.9 MB/s\u001b[0m eta \u001b[36m0:00:00\u001b[0ma \u001b[36m0:00:01\u001b[0m\n",
      "\u001b[?25hRequirement already satisfied: requests<3,>=2.21.0 in /home/braian/anaconda3/envs/thesis/lib/python3.7/site-packages (from tensorboard<2.12,>=2.11->tensorflow) (2.28.2)\n",
      "Collecting cachetools<6.0,>=2.0.0\n",
      "  Downloading cachetools-5.3.0-py3-none-any.whl (9.3 kB)\n",
      "Collecting rsa<5,>=3.1.4\n",
      "  Downloading rsa-4.9-py3-none-any.whl (34 kB)\n",
      "Collecting pyasn1-modules>=0.2.1\n",
      "  Downloading pyasn1_modules-0.2.8-py2.py3-none-any.whl (155 kB)\n",
      "\u001b[2K     \u001b[90m━━━━━━━━━━━━━━━━━━━━━━━━━━━━━━━━━━━━━━\u001b[0m \u001b[32m155.3/155.3 kB\u001b[0m \u001b[31m11.1 MB/s\u001b[0m eta \u001b[36m0:00:00\u001b[0m\n",
      "\u001b[?25hCollecting requests-oauthlib>=0.7.0\n",
      "  Downloading requests_oauthlib-1.3.1-py2.py3-none-any.whl (23 kB)\n",
      "Requirement already satisfied: importlib-metadata>=4.4 in /home/braian/anaconda3/envs/thesis/lib/python3.7/site-packages (from markdown>=2.6.8->tensorboard<2.12,>=2.11->tensorflow) (6.0.0)\n",
      "Requirement already satisfied: charset-normalizer<4,>=2 in /home/braian/anaconda3/envs/thesis/lib/python3.7/site-packages (from requests<3,>=2.21.0->tensorboard<2.12,>=2.11->tensorflow) (2.1.1)\n",
      "Requirement already satisfied: urllib3<1.27,>=1.21.1 in /home/braian/anaconda3/envs/thesis/lib/python3.7/site-packages (from requests<3,>=2.21.0->tensorboard<2.12,>=2.11->tensorflow) (1.26.14)\n",
      "Requirement already satisfied: certifi>=2017.4.17 in /home/braian/anaconda3/envs/thesis/lib/python3.7/site-packages (from requests<3,>=2.21.0->tensorboard<2.12,>=2.11->tensorflow) (2022.12.7)\n",
      "Requirement already satisfied: idna<4,>=2.5 in /home/braian/anaconda3/envs/thesis/lib/python3.7/site-packages (from requests<3,>=2.21.0->tensorboard<2.12,>=2.11->tensorflow) (3.4)\n",
      "Requirement already satisfied: MarkupSafe>=2.1.1 in /home/braian/anaconda3/envs/thesis/lib/python3.7/site-packages (from werkzeug>=1.0.1->tensorboard<2.12,>=2.11->tensorflow) (2.1.2)\n",
      "Requirement already satisfied: zipp>=0.5 in /home/braian/anaconda3/envs/thesis/lib/python3.7/site-packages (from importlib-metadata>=4.4->markdown>=2.6.8->tensorboard<2.12,>=2.11->tensorflow) (3.11.0)\n",
      "Collecting pyasn1<0.5.0,>=0.4.6\n",
      "  Downloading pyasn1-0.4.8-py2.py3-none-any.whl (77 kB)\n",
      "\u001b[2K     \u001b[90m━━━━━━━━━━━━━━━━━━━━━━━━━━━━━━━━━━━━━━━━\u001b[0m \u001b[32m77.1/77.1 kB\u001b[0m \u001b[31m10.1 MB/s\u001b[0m eta \u001b[36m0:00:00\u001b[0m\n",
      "\u001b[?25hCollecting oauthlib>=3.0.0\n",
      "  Downloading oauthlib-3.2.2-py3-none-any.whl (151 kB)\n",
      "\u001b[2K     \u001b[90m━━━━━━━━━━━━━━━━━━━━━━━━━━━━━━━━━━━━━━\u001b[0m \u001b[32m151.7/151.7 kB\u001b[0m \u001b[31m10.6 MB/s\u001b[0m eta \u001b[36m0:00:00\u001b[0m\n",
      "\u001b[?25hInstalling collected packages: tensorboard-plugin-wit, pyasn1, libclang, flatbuffers, wrapt, werkzeug, termcolor, tensorflow-io-gcs-filesystem, tensorflow-estimator, tensorboard-data-server, rsa, pyasn1-modules, protobuf, opt-einsum, oauthlib, keras, h5py, grpcio, google-pasta, gast, cachetools, astunparse, absl-py, requests-oauthlib, markdown, google-auth, google-auth-oauthlib, tensorboard, tensorflow\n"
     ]
    },
    {
     "name": "stdout",
     "output_type": "stream",
     "text": [
      "Successfully installed absl-py-1.4.0 astunparse-1.6.3 cachetools-5.3.0 flatbuffers-23.3.3 gast-0.4.0 google-auth-2.16.2 google-auth-oauthlib-0.4.6 google-pasta-0.2.0 grpcio-1.51.3 h5py-3.8.0 keras-2.11.0 libclang-15.0.6.1 markdown-3.4.1 oauthlib-3.2.2 opt-einsum-3.3.0 protobuf-3.19.6 pyasn1-0.4.8 pyasn1-modules-0.2.8 requests-oauthlib-1.3.1 rsa-4.9 tensorboard-2.11.2 tensorboard-data-server-0.6.1 tensorboard-plugin-wit-1.8.1 tensorflow-2.11.0 tensorflow-estimator-2.11.0 tensorflow-io-gcs-filesystem-0.31.0 termcolor-2.2.0 werkzeug-2.2.3 wrapt-1.15.0\r\n"
     ]
    }
   ],
   "source": [
    "!pip install tensorflow"
   ]
  },
  {
   "cell_type": "code",
   "execution_count": 3,
   "id": "6eb90016",
   "metadata": {},
   "outputs": [
    {
     "name": "stdout",
     "output_type": "stream",
     "text": [
      "Collecting scikit-learn\n",
      "  Downloading scikit_learn-1.0.2-cp37-cp37m-manylinux_2_17_x86_64.manylinux2014_x86_64.whl (24.8 MB)\n",
      "\u001b[2K     \u001b[90m━━━━━━━━━━━━━━━━━━━━━━━━━━━━━━━━━━━━━━━━\u001b[0m \u001b[32m24.8/24.8 MB\u001b[0m \u001b[31m10.9 MB/s\u001b[0m eta \u001b[36m0:00:00\u001b[0m00:01\u001b[0m00:01\u001b[0m\n",
      "\u001b[?25hCollecting threadpoolctl>=2.0.0\n",
      "  Downloading threadpoolctl-3.1.0-py3-none-any.whl (14 kB)\n",
      "Requirement already satisfied: numpy>=1.14.6 in /home/braian/anaconda3/envs/thesis/lib/python3.7/site-packages (from scikit-learn) (1.21.6)\n",
      "Requirement already satisfied: joblib>=0.11 in /home/braian/anaconda3/envs/thesis/lib/python3.7/site-packages (from scikit-learn) (1.2.0)\n",
      "Collecting scipy>=1.1.0\n",
      "  Downloading scipy-1.7.3-cp37-cp37m-manylinux_2_12_x86_64.manylinux2010_x86_64.whl (38.1 MB)\n",
      "\u001b[2K     \u001b[90m━━━━━━━━━━━━━━━━━━━━━━━━━━━━━━━━━━━━━━━━\u001b[0m \u001b[32m38.1/38.1 MB\u001b[0m \u001b[31m10.8 MB/s\u001b[0m eta \u001b[36m0:00:00\u001b[0m00:01\u001b[0m00:01\u001b[0m\n",
      "\u001b[?25hInstalling collected packages: threadpoolctl, scipy, scikit-learn\n",
      "Successfully installed scikit-learn-1.0.2 scipy-1.7.3 threadpoolctl-3.1.0\n"
     ]
    }
   ],
   "source": [
    "!pip install scikit-learn"
   ]
  },
  {
   "cell_type": "code",
   "execution_count": 4,
   "id": "81154ae2",
   "metadata": {},
   "outputs": [
    {
     "name": "stderr",
     "output_type": "stream",
     "text": [
      "2023-03-06 01:20:05.200425: I tensorflow/core/platform/cpu_feature_guard.cc:193] This TensorFlow binary is optimized with oneAPI Deep Neural Network Library (oneDNN) to use the following CPU instructions in performance-critical operations:  AVX2 FMA\n",
      "To enable them in other operations, rebuild TensorFlow with the appropriate compiler flags.\n",
      "2023-03-06 01:20:05.892984: W tensorflow/compiler/xla/stream_executor/platform/default/dso_loader.cc:64] Could not load dynamic library 'libnvinfer.so.7'; dlerror: libnvinfer.so.7: cannot open shared object file: No such file or directory\n",
      "2023-03-06 01:20:05.893113: W tensorflow/compiler/xla/stream_executor/platform/default/dso_loader.cc:64] Could not load dynamic library 'libnvinfer_plugin.so.7'; dlerror: libnvinfer_plugin.so.7: cannot open shared object file: No such file or directory\n",
      "2023-03-06 01:20:05.893120: W tensorflow/compiler/tf2tensorrt/utils/py_utils.cc:38] TF-TRT Warning: Cannot dlopen some TensorRT libraries. If you would like to use Nvidia GPU with TensorRT, please make sure the missing libraries mentioned above are installed properly.\n"
     ]
    }
   ],
   "source": [
    "import tensorflow as tf\n",
    "from sklearn.model_selection import train_test_split\n",
    "from tensorflow.keras.models import Sequential\n",
    "from tensorflow.keras.layers import Activation\n",
    "from tensorflow.keras.optimizers import SGD, Adam\n",
    "from tensorflow.keras.layers import Dense, Dropout\n",
    "from tensorflow.keras.utils import to_categorical"
   ]
  },
  {
   "cell_type": "code",
   "execution_count": 53,
   "id": "23176638",
   "metadata": {},
   "outputs": [],
   "source": [
    "import pandas as pd\n",
    "import numpy as np\n",
    "import matplotlib.pyplot as plt\n",
    "from tqdm import tqdm"
   ]
  },
  {
   "cell_type": "code",
   "execution_count": 6,
   "id": "f7e9fdd8",
   "metadata": {},
   "outputs": [],
   "source": [
    "features = pd.read_pickle(\"feat_backpack.pickle\")"
   ]
  },
  {
   "cell_type": "code",
   "execution_count": 10,
   "id": "b8b7cb05",
   "metadata": {},
   "outputs": [
    {
     "data": {
      "text/html": [
       "<div>\n",
       "<style scoped>\n",
       "    .dataframe tbody tr th:only-of-type {\n",
       "        vertical-align: middle;\n",
       "    }\n",
       "\n",
       "    .dataframe tbody tr th {\n",
       "        vertical-align: top;\n",
       "    }\n",
       "\n",
       "    .dataframe thead th {\n",
       "        text-align: right;\n",
       "    }\n",
       "</style>\n",
       "<table border=\"1\" class=\"dataframe\">\n",
       "  <thead>\n",
       "    <tr style=\"text-align: right;\">\n",
       "      <th></th>\n",
       "      <th>main_bg_tokens</th>\n",
       "      <th>main_consistent_bg_token</th>\n",
       "      <th>main_fg_tokens</th>\n",
       "      <th>main_consistent_fg_token</th>\n",
       "      <th>second_bg_tokens</th>\n",
       "      <th>second_consistent_bg_token</th>\n",
       "      <th>second_fg_tokens</th>\n",
       "      <th>second_consistent_fg_token</th>\n",
       "      <th>layer_11_act</th>\n",
       "      <th>layer_10_act</th>\n",
       "      <th>layer_09_act</th>\n",
       "      <th>class</th>\n",
       "      <th>labels</th>\n",
       "    </tr>\n",
       "  </thead>\n",
       "  <tbody>\n",
       "    <tr>\n",
       "      <th>0</th>\n",
       "      <td>[{'max_image': 156, 'max_obj': 156, 'min_obj':...</td>\n",
       "      <td>92.0</td>\n",
       "      <td>[{'max_image': 156, 'max_obj': 72, 'min_obj': ...</td>\n",
       "      <td>72.0</td>\n",
       "      <td>[{'max_image': 156, 'max_obj': 156, 'min_obj':...</td>\n",
       "      <td>92.0</td>\n",
       "      <td>[{'max_image': 156, 'max_obj': 178, 'min_obj':...</td>\n",
       "      <td>178.0</td>\n",
       "      <td>[[3.9636064, -3.344161, 0.018599555, -0.680718...</td>\n",
       "      <td>[[2.3967972, -2.2439294, -1.6943444, -0.963295...</td>\n",
       "      <td>[[2.3873458, -1.3841065, -1.6437932, -0.918038...</td>\n",
       "      <td>backpack</td>\n",
       "      <td>0</td>\n",
       "    </tr>\n",
       "    <tr>\n",
       "      <th>1</th>\n",
       "      <td>[{'max_image': 170, 'max_obj': 170, 'min_obj':...</td>\n",
       "      <td>170.0</td>\n",
       "      <td>[{'max_image': 170, 'max_obj': 42, 'min_obj': ...</td>\n",
       "      <td>70.0</td>\n",
       "      <td>[{'max_image': 170, 'max_obj': 170, 'min_obj':...</td>\n",
       "      <td>170.0</td>\n",
       "      <td>[{'max_image': 170, 'max_obj': 60, 'min_obj': ...</td>\n",
       "      <td>60.0</td>\n",
       "      <td>[[3.0557942, -4.3884687, -1.9317892, 0.5815902...</td>\n",
       "      <td>[[1.7552422, -3.0687892, -1.209787, 1.9393528,...</td>\n",
       "      <td>[[1.880189, -1.7407998, -0.83776057, 0.3473085...</td>\n",
       "      <td>backpack</td>\n",
       "      <td>0</td>\n",
       "    </tr>\n",
       "    <tr>\n",
       "      <th>2</th>\n",
       "      <td>[{'max_image': 19, 'max_obj': 19, 'min_obj': 3...</td>\n",
       "      <td>148.0</td>\n",
       "      <td>[{'max_image': 19, 'max_obj': 86, 'min_obj': 1...</td>\n",
       "      <td>86.0</td>\n",
       "      <td>[{'max_image': 19, 'max_obj': 19, 'min_obj': 3...</td>\n",
       "      <td>148.0</td>\n",
       "      <td>None</td>\n",
       "      <td>NaN</td>\n",
       "      <td>[[3.288642, -1.9042169, -5.040059, 0.023156375...</td>\n",
       "      <td>[[1.6052028, -1.816736, -2.782751, 0.22806424,...</td>\n",
       "      <td>[[1.2008154, -1.0786269, -1.777029, -0.4010378...</td>\n",
       "      <td>backpack</td>\n",
       "      <td>0</td>\n",
       "    </tr>\n",
       "    <tr>\n",
       "      <th>3</th>\n",
       "      <td>[{'max_image': 173, 'max_obj': 173, 'min_obj':...</td>\n",
       "      <td>173.0</td>\n",
       "      <td>[{'max_image': 173, 'max_obj': 19, 'min_obj': ...</td>\n",
       "      <td>120.0</td>\n",
       "      <td>[{'max_image': 173, 'max_obj': 173, 'min_obj':...</td>\n",
       "      <td>173.0</td>\n",
       "      <td>[{'max_image': 173, 'max_obj': 116, 'min_obj':...</td>\n",
       "      <td>145.0</td>\n",
       "      <td>[[1.2662159, 2.6536717, -3.1891391, -0.4909477...</td>\n",
       "      <td>[[0.400926, -0.2360898, -0.8044621, 2.2384477,...</td>\n",
       "      <td>[[0.017914236, 1.346952, -0.32394043, 2.601256...</td>\n",
       "      <td>backpack</td>\n",
       "      <td>0</td>\n",
       "    </tr>\n",
       "    <tr>\n",
       "      <th>4</th>\n",
       "      <td>[{'max_image': 10, 'max_obj': 10, 'min_obj': 5...</td>\n",
       "      <td>161.0</td>\n",
       "      <td>[{'max_image': 10, 'max_obj': 105, 'min_obj': ...</td>\n",
       "      <td>119.0</td>\n",
       "      <td>[{'max_image': 10, 'max_obj': 10, 'min_obj': 5...</td>\n",
       "      <td>161.0</td>\n",
       "      <td>None</td>\n",
       "      <td>NaN</td>\n",
       "      <td>[[2.6675725, 0.20362961, -0.97527635, -1.24362...</td>\n",
       "      <td>[[-0.36094376, -1.458556, 0.8186226, -1.900530...</td>\n",
       "      <td>[[-0.158916, -0.69183946, 2.1854048, -2.364840...</td>\n",
       "      <td>backpack</td>\n",
       "      <td>0</td>\n",
       "    </tr>\n",
       "  </tbody>\n",
       "</table>\n",
       "</div>"
      ],
      "text/plain": [
       "                                      main_bg_tokens  \\\n",
       "0  [{'max_image': 156, 'max_obj': 156, 'min_obj':...   \n",
       "1  [{'max_image': 170, 'max_obj': 170, 'min_obj':...   \n",
       "2  [{'max_image': 19, 'max_obj': 19, 'min_obj': 3...   \n",
       "3  [{'max_image': 173, 'max_obj': 173, 'min_obj':...   \n",
       "4  [{'max_image': 10, 'max_obj': 10, 'min_obj': 5...   \n",
       "\n",
       "   main_consistent_bg_token  \\\n",
       "0                      92.0   \n",
       "1                     170.0   \n",
       "2                     148.0   \n",
       "3                     173.0   \n",
       "4                     161.0   \n",
       "\n",
       "                                      main_fg_tokens  \\\n",
       "0  [{'max_image': 156, 'max_obj': 72, 'min_obj': ...   \n",
       "1  [{'max_image': 170, 'max_obj': 42, 'min_obj': ...   \n",
       "2  [{'max_image': 19, 'max_obj': 86, 'min_obj': 1...   \n",
       "3  [{'max_image': 173, 'max_obj': 19, 'min_obj': ...   \n",
       "4  [{'max_image': 10, 'max_obj': 105, 'min_obj': ...   \n",
       "\n",
       "   main_consistent_fg_token  \\\n",
       "0                      72.0   \n",
       "1                      70.0   \n",
       "2                      86.0   \n",
       "3                     120.0   \n",
       "4                     119.0   \n",
       "\n",
       "                                    second_bg_tokens  \\\n",
       "0  [{'max_image': 156, 'max_obj': 156, 'min_obj':...   \n",
       "1  [{'max_image': 170, 'max_obj': 170, 'min_obj':...   \n",
       "2  [{'max_image': 19, 'max_obj': 19, 'min_obj': 3...   \n",
       "3  [{'max_image': 173, 'max_obj': 173, 'min_obj':...   \n",
       "4  [{'max_image': 10, 'max_obj': 10, 'min_obj': 5...   \n",
       "\n",
       "   second_consistent_bg_token  \\\n",
       "0                        92.0   \n",
       "1                       170.0   \n",
       "2                       148.0   \n",
       "3                       173.0   \n",
       "4                       161.0   \n",
       "\n",
       "                                    second_fg_tokens  \\\n",
       "0  [{'max_image': 156, 'max_obj': 178, 'min_obj':...   \n",
       "1  [{'max_image': 170, 'max_obj': 60, 'min_obj': ...   \n",
       "2                                               None   \n",
       "3  [{'max_image': 173, 'max_obj': 116, 'min_obj':...   \n",
       "4                                               None   \n",
       "\n",
       "   second_consistent_fg_token  \\\n",
       "0                       178.0   \n",
       "1                        60.0   \n",
       "2                         NaN   \n",
       "3                       145.0   \n",
       "4                         NaN   \n",
       "\n",
       "                                        layer_11_act  \\\n",
       "0  [[3.9636064, -3.344161, 0.018599555, -0.680718...   \n",
       "1  [[3.0557942, -4.3884687, -1.9317892, 0.5815902...   \n",
       "2  [[3.288642, -1.9042169, -5.040059, 0.023156375...   \n",
       "3  [[1.2662159, 2.6536717, -3.1891391, -0.4909477...   \n",
       "4  [[2.6675725, 0.20362961, -0.97527635, -1.24362...   \n",
       "\n",
       "                                        layer_10_act  \\\n",
       "0  [[2.3967972, -2.2439294, -1.6943444, -0.963295...   \n",
       "1  [[1.7552422, -3.0687892, -1.209787, 1.9393528,...   \n",
       "2  [[1.6052028, -1.816736, -2.782751, 0.22806424,...   \n",
       "3  [[0.400926, -0.2360898, -0.8044621, 2.2384477,...   \n",
       "4  [[-0.36094376, -1.458556, 0.8186226, -1.900530...   \n",
       "\n",
       "                                        layer_09_act     class  labels  \n",
       "0  [[2.3873458, -1.3841065, -1.6437932, -0.918038...  backpack       0  \n",
       "1  [[1.880189, -1.7407998, -0.83776057, 0.3473085...  backpack       0  \n",
       "2  [[1.2008154, -1.0786269, -1.777029, -0.4010378...  backpack       0  \n",
       "3  [[0.017914236, 1.346952, -0.32394043, 2.601256...  backpack       0  \n",
       "4  [[-0.158916, -0.69183946, 2.1854048, -2.364840...  backpack       0  "
      ]
     },
     "execution_count": 10,
     "metadata": {},
     "output_type": "execute_result"
    }
   ],
   "source": [
    "features.head()"
   ]
  },
  {
   "cell_type": "code",
   "execution_count": 8,
   "id": "85aace17",
   "metadata": {},
   "outputs": [
    {
     "data": {
      "text/plain": [
       "{'backpack': 0, 'umbrella': 1, 'handbag': 2, 'tie': 3, 'suitcase': 4}"
      ]
     },
     "execution_count": 8,
     "metadata": {},
     "output_type": "execute_result"
    }
   ],
   "source": [
    "labels = ['backpack', 'umbrella', 'handbag', 'tie', 'suitcase']\n",
    "# (1, 27) ('person', 'backpack'): 3524\n",
    "# (1, 28) ('person', 'umbrella'): 2089\n",
    "# (1, 31) ('person', 'handbag'): 4890\n",
    "# (1, 32) ('person', 'tie'): 1543\n",
    "# (1, 33) ('person', 'suitcase'): 1048\n",
    "labels_to_idx = dict(zip(labels, range(len(labels))))\n",
    "labels_to_idx"
   ]
  },
  {
   "cell_type": "code",
   "execution_count": 9,
   "id": "7457c357",
   "metadata": {},
   "outputs": [],
   "source": [
    "features[\"labels\"] = features['class'].apply(lambda x: labels_to_idx[x])"
   ]
  },
  {
   "cell_type": "code",
   "execution_count": 17,
   "id": "7b857d9b",
   "metadata": {},
   "outputs": [
    {
     "data": {
      "text/plain": [
       "1001"
      ]
     },
     "execution_count": 17,
     "metadata": {},
     "output_type": "execute_result"
    }
   ],
   "source": [
    "len(features)"
   ]
  },
  {
   "cell_type": "code",
   "execution_count": 30,
   "id": "f64c28c4",
   "metadata": {},
   "outputs": [
    {
     "data": {
      "text/plain": [
       "608"
      ]
     },
     "execution_count": 30,
     "metadata": {},
     "output_type": "execute_result"
    }
   ],
   "source": [
    "features = features[(~features[\"second_fg_tokens\"].isnull()) & (~features[\"main_fg_tokens\"].isnull())]\n",
    "features = features.reset_index(drop=True)\n",
    "len(features)"
   ]
  },
  {
   "cell_type": "code",
   "execution_count": 31,
   "id": "9cca3427",
   "metadata": {},
   "outputs": [],
   "source": [
    "token_strategy = 'max_obj'\n",
    "layer = 0"
   ]
  },
  {
   "cell_type": "code",
   "execution_count": 37,
   "id": "955117af",
   "metadata": {},
   "outputs": [
    {
     "name": "stdout",
     "output_type": "stream",
     "text": [
      "(768,)\n",
      "(608, 1)\n"
     ]
    }
   ],
   "source": [
    "token = features[\"main_fg_tokens\"][0][layer][token_strategy]\n",
    "x = features[\"layer_11_act\"][0][token,:]\n",
    "print(x.shape)\n",
    "y = to_categorical(features[\"labels\"].values.tolist())\n",
    "print(y.shape)"
   ]
  },
  {
   "cell_type": "code",
   "execution_count": 34,
   "id": "df5cf10f",
   "metadata": {},
   "outputs": [
    {
     "name": "stdout",
     "output_type": "stream",
     "text": [
      "(608, 768)\n"
     ]
    }
   ],
   "source": [
    "x = np.zeros((len(features),768))\n",
    "print(x.shape)\n",
    "for idx, row in features.iterrows():\n",
    "    token = row[\"main_fg_tokens\"][layer][token_strategy]\n",
    "    x[idx] = row[\"layer_09_act\"][token,:]"
   ]
  },
  {
   "cell_type": "code",
   "execution_count": 35,
   "id": "1b7f834d",
   "metadata": {},
   "outputs": [
    {
     "data": {
      "text/plain": [
       "(608, 768)"
      ]
     },
     "execution_count": 35,
     "metadata": {},
     "output_type": "execute_result"
    }
   ],
   "source": [
    "x.shape"
   ]
  },
  {
   "cell_type": "code",
   "execution_count": 48,
   "id": "bea1f423",
   "metadata": {},
   "outputs": [],
   "source": [
    "def base_model():\n",
    "    clf_model = Sequential()\n",
    "    clf_model.add(Dense(256, input_dim=768, activation='relu'))\n",
    "    clf_model.add(Dropout(0.5))\n",
    "    clf_model.add(Dense(5))\n",
    "    clf_model.add(Activation(\"softmax\"))\n",
    "\n",
    "#     sgd = SGD(lr=0.001)\n",
    "    adam = Adam()\n",
    "    clf_model.compile(loss=\"categorical_crossentropy\", optimizer=adam, metrics=[\"accuracy\"])\n",
    "    return clf_model"
   ]
  },
  {
   "cell_type": "code",
   "execution_count": 72,
   "id": "494b435e",
   "metadata": {
    "scrolled": true
   },
   "outputs": [
    {
     "name": "stdout",
     "output_type": "stream",
     "text": [
      "Processing file 'feat_backpack.pickle'\n"
     ]
    },
    {
     "name": "stderr",
     "output_type": "stream",
     "text": [
      "608it [00:00, 22168.55it/s]\n"
     ]
    },
    {
     "name": "stdout",
     "output_type": "stream",
     "text": [
      "Processing file 'feat_handbag.pickle'\n"
     ]
    },
    {
     "name": "stderr",
     "output_type": "stream",
     "text": [
      "554it [00:00, 11785.04it/s]\n"
     ]
    },
    {
     "name": "stdout",
     "output_type": "stream",
     "text": [
      "Processing file 'feat_suitcase.pickle'\n"
     ]
    },
    {
     "name": "stderr",
     "output_type": "stream",
     "text": [
      "735it [00:00, 22090.00it/s]\n"
     ]
    },
    {
     "name": "stdout",
     "output_type": "stream",
     "text": [
      "Processing file 'feat_tie.pickle'\n"
     ]
    },
    {
     "name": "stderr",
     "output_type": "stream",
     "text": [
      "354it [00:00, 11448.18it/s]\n"
     ]
    },
    {
     "name": "stdout",
     "output_type": "stream",
     "text": [
      "Processing file 'feat_umbrella.pickle'\n"
     ]
    },
    {
     "name": "stderr",
     "output_type": "stream",
     "text": [
      "718it [00:00, 22901.22it/s]\n"
     ]
    },
    {
     "name": "stdout",
     "output_type": "stream",
     "text": [
      "Training model...\n",
      "Evaluating model...\n",
      "1/1 [==============================] - 0s 17ms/step - loss: 2.1762 - accuracy: 0.3333\n",
      "Done...\n",
      "Processing file 'feat_backpack.pickle'\n"
     ]
    },
    {
     "name": "stderr",
     "output_type": "stream",
     "text": [
      "608it [00:00, 11928.57it/s]\n"
     ]
    },
    {
     "name": "stdout",
     "output_type": "stream",
     "text": [
      "Processing file 'feat_handbag.pickle'\n"
     ]
    },
    {
     "name": "stderr",
     "output_type": "stream",
     "text": [
      "554it [00:00, 11709.38it/s]\n"
     ]
    },
    {
     "name": "stdout",
     "output_type": "stream",
     "text": [
      "Processing file 'feat_suitcase.pickle'\n"
     ]
    },
    {
     "name": "stderr",
     "output_type": "stream",
     "text": [
      "735it [00:00, 12328.44it/s]\n"
     ]
    },
    {
     "name": "stdout",
     "output_type": "stream",
     "text": [
      "Processing file 'feat_tie.pickle'\n"
     ]
    },
    {
     "name": "stderr",
     "output_type": "stream",
     "text": [
      "354it [00:00, 17070.40it/s]\n"
     ]
    },
    {
     "name": "stdout",
     "output_type": "stream",
     "text": [
      "Processing file 'feat_umbrella.pickle'\n"
     ]
    },
    {
     "name": "stderr",
     "output_type": "stream",
     "text": [
      "718it [00:00, 12511.42it/s]\n"
     ]
    },
    {
     "name": "stdout",
     "output_type": "stream",
     "text": [
      "Training model...\n",
      "Evaluating model...\n",
      "1/1 [==============================] - 0s 16ms/step - loss: 2.1244 - accuracy: 0.3737\n",
      "Done...\n",
      "Processing file 'feat_backpack.pickle'\n"
     ]
    },
    {
     "name": "stderr",
     "output_type": "stream",
     "text": [
      "608it [00:00, 11909.57it/s]\n"
     ]
    },
    {
     "name": "stdout",
     "output_type": "stream",
     "text": [
      "Processing file 'feat_handbag.pickle'\n"
     ]
    },
    {
     "name": "stderr",
     "output_type": "stream",
     "text": [
      "554it [00:00, 11551.86it/s]\n"
     ]
    },
    {
     "name": "stdout",
     "output_type": "stream",
     "text": [
      "Processing file 'feat_suitcase.pickle'\n"
     ]
    },
    {
     "name": "stderr",
     "output_type": "stream",
     "text": [
      "735it [00:00, 12274.40it/s]\n"
     ]
    },
    {
     "name": "stdout",
     "output_type": "stream",
     "text": [
      "Processing file 'feat_tie.pickle'\n"
     ]
    },
    {
     "name": "stderr",
     "output_type": "stream",
     "text": [
      "354it [00:00, 19100.83it/s]\n"
     ]
    },
    {
     "name": "stdout",
     "output_type": "stream",
     "text": [
      "Processing file 'feat_umbrella.pickle'\n"
     ]
    },
    {
     "name": "stderr",
     "output_type": "stream",
     "text": [
      "718it [00:00, 12516.98it/s]\n"
     ]
    },
    {
     "name": "stdout",
     "output_type": "stream",
     "text": [
      "Training model...\n",
      "Evaluating model...\n",
      "1/1 [==============================] - 0s 15ms/step - loss: 1.9758 - accuracy: 0.4680\n",
      "Done...\n",
      "Processing file 'feat_backpack.pickle'\n"
     ]
    },
    {
     "name": "stderr",
     "output_type": "stream",
     "text": [
      "608it [00:00, 20893.17it/s]\n"
     ]
    },
    {
     "name": "stdout",
     "output_type": "stream",
     "text": [
      "Processing file 'feat_handbag.pickle'\n"
     ]
    },
    {
     "name": "stderr",
     "output_type": "stream",
     "text": [
      "554it [00:00, 11671.44it/s]\n"
     ]
    },
    {
     "name": "stdout",
     "output_type": "stream",
     "text": [
      "Processing file 'feat_suitcase.pickle'\n"
     ]
    },
    {
     "name": "stderr",
     "output_type": "stream",
     "text": [
      "735it [00:00, 11612.01it/s]\n"
     ]
    },
    {
     "name": "stdout",
     "output_type": "stream",
     "text": [
      "Processing file 'feat_tie.pickle'\n"
     ]
    },
    {
     "name": "stderr",
     "output_type": "stream",
     "text": [
      "354it [00:00, 10735.88it/s]\n"
     ]
    },
    {
     "name": "stdout",
     "output_type": "stream",
     "text": [
      "Processing file 'feat_umbrella.pickle'\n"
     ]
    },
    {
     "name": "stderr",
     "output_type": "stream",
     "text": [
      "718it [00:00, 16081.72it/s]\n"
     ]
    },
    {
     "name": "stdout",
     "output_type": "stream",
     "text": [
      "Training model...\n",
      "Evaluating model...\n",
      "1/1 [==============================] - 0s 15ms/step - loss: 2.1936 - accuracy: 0.3401\n",
      "Done...\n",
      "Processing file 'feat_backpack.pickle'\n"
     ]
    },
    {
     "name": "stderr",
     "output_type": "stream",
     "text": [
      "608it [00:00, 13383.38it/s]\n"
     ]
    },
    {
     "name": "stdout",
     "output_type": "stream",
     "text": [
      "Processing file 'feat_handbag.pickle'\n"
     ]
    },
    {
     "name": "stderr",
     "output_type": "stream",
     "text": [
      "554it [00:00, 11953.95it/s]\n"
     ]
    },
    {
     "name": "stdout",
     "output_type": "stream",
     "text": [
      "Processing file 'feat_suitcase.pickle'\n"
     ]
    },
    {
     "name": "stderr",
     "output_type": "stream",
     "text": [
      "735it [00:00, 12081.27it/s]\n"
     ]
    },
    {
     "name": "stdout",
     "output_type": "stream",
     "text": [
      "Processing file 'feat_tie.pickle'\n"
     ]
    },
    {
     "name": "stderr",
     "output_type": "stream",
     "text": [
      "354it [00:00, 11382.80it/s]\n"
     ]
    },
    {
     "name": "stdout",
     "output_type": "stream",
     "text": [
      "Processing file 'feat_umbrella.pickle'\n"
     ]
    },
    {
     "name": "stderr",
     "output_type": "stream",
     "text": [
      "718it [00:00, 12436.14it/s]\n"
     ]
    },
    {
     "name": "stdout",
     "output_type": "stream",
     "text": [
      "Training model...\n",
      "Evaluating model...\n",
      "1/1 [==============================] - 0s 17ms/step - loss: 1.9889 - accuracy: 0.3973\n",
      "Done...\n",
      "Processing file 'feat_backpack.pickle'\n"
     ]
    },
    {
     "name": "stderr",
     "output_type": "stream",
     "text": [
      "608it [00:00, 19669.85it/s]\n"
     ]
    },
    {
     "name": "stdout",
     "output_type": "stream",
     "text": [
      "Processing file 'feat_handbag.pickle'\n"
     ]
    },
    {
     "name": "stderr",
     "output_type": "stream",
     "text": [
      "554it [00:00, 11957.89it/s]\n"
     ]
    },
    {
     "name": "stdout",
     "output_type": "stream",
     "text": [
      "Processing file 'feat_suitcase.pickle'\n"
     ]
    },
    {
     "name": "stderr",
     "output_type": "stream",
     "text": [
      "735it [00:00, 11880.14it/s]\n"
     ]
    },
    {
     "name": "stdout",
     "output_type": "stream",
     "text": [
      "Processing file 'feat_tie.pickle'\n"
     ]
    },
    {
     "name": "stderr",
     "output_type": "stream",
     "text": [
      "354it [00:00, 11366.24it/s]\n"
     ]
    },
    {
     "name": "stdout",
     "output_type": "stream",
     "text": [
      "Processing file 'feat_umbrella.pickle'\n"
     ]
    },
    {
     "name": "stderr",
     "output_type": "stream",
     "text": [
      "718it [00:00, 22548.50it/s]\n"
     ]
    },
    {
     "name": "stdout",
     "output_type": "stream",
     "text": [
      "Training model...\n",
      "Evaluating model...\n",
      "1/1 [==============================] - 0s 17ms/step - loss: 1.7879 - accuracy: 0.4848\n",
      "Done...\n",
      "Processing file 'feat_backpack.pickle'\n"
     ]
    },
    {
     "name": "stderr",
     "output_type": "stream",
     "text": [
      "608it [00:00, 11298.59it/s]\n"
     ]
    },
    {
     "name": "stdout",
     "output_type": "stream",
     "text": [
      "Processing file 'feat_handbag.pickle'\n"
     ]
    },
    {
     "name": "stderr",
     "output_type": "stream",
     "text": [
      "554it [00:00, 14568.58it/s]\n"
     ]
    },
    {
     "name": "stdout",
     "output_type": "stream",
     "text": [
      "Processing file 'feat_suitcase.pickle'\n"
     ]
    },
    {
     "name": "stderr",
     "output_type": "stream",
     "text": [
      "735it [00:00, 21969.57it/s]\n"
     ]
    },
    {
     "name": "stdout",
     "output_type": "stream",
     "text": [
      "Processing file 'feat_tie.pickle'\n"
     ]
    },
    {
     "name": "stderr",
     "output_type": "stream",
     "text": [
      "354it [00:00, 10782.12it/s]\n"
     ]
    },
    {
     "name": "stdout",
     "output_type": "stream",
     "text": [
      "Processing file 'feat_umbrella.pickle'\n"
     ]
    },
    {
     "name": "stderr",
     "output_type": "stream",
     "text": [
      "718it [00:00, 21788.28it/s]\n"
     ]
    },
    {
     "name": "stdout",
     "output_type": "stream",
     "text": [
      "Training model...\n",
      "Evaluating model...\n",
      "1/1 [==============================] - 0s 16ms/step - loss: 2.1659 - accuracy: 0.3603\n",
      "Done...\n",
      "Processing file 'feat_backpack.pickle'\n"
     ]
    },
    {
     "name": "stderr",
     "output_type": "stream",
     "text": [
      "608it [00:00, 20187.59it/s]\n"
     ]
    },
    {
     "name": "stdout",
     "output_type": "stream",
     "text": [
      "Processing file 'feat_handbag.pickle'\n"
     ]
    },
    {
     "name": "stderr",
     "output_type": "stream",
     "text": [
      "554it [00:00, 21029.41it/s]\n"
     ]
    },
    {
     "name": "stdout",
     "output_type": "stream",
     "text": [
      "Processing file 'feat_suitcase.pickle'\n"
     ]
    },
    {
     "name": "stderr",
     "output_type": "stream",
     "text": [
      "735it [00:00, 11326.88it/s]\n"
     ]
    },
    {
     "name": "stdout",
     "output_type": "stream",
     "text": [
      "Processing file 'feat_tie.pickle'\n"
     ]
    },
    {
     "name": "stderr",
     "output_type": "stream",
     "text": [
      "354it [00:00, 10708.17it/s]\n"
     ]
    },
    {
     "name": "stdout",
     "output_type": "stream",
     "text": [
      "Processing file 'feat_umbrella.pickle'\n"
     ]
    },
    {
     "name": "stderr",
     "output_type": "stream",
     "text": [
      "718it [00:00, 11963.07it/s]\n"
     ]
    },
    {
     "name": "stdout",
     "output_type": "stream",
     "text": [
      "Training model...\n",
      "Evaluating model...\n",
      "1/1 [==============================] - 0s 17ms/step - loss: 2.1599 - accuracy: 0.3906\n",
      "Done...\n",
      "Processing file 'feat_backpack.pickle'\n"
     ]
    },
    {
     "name": "stderr",
     "output_type": "stream",
     "text": [
      "608it [00:00, 20527.71it/s]\n"
     ]
    },
    {
     "name": "stdout",
     "output_type": "stream",
     "text": [
      "Processing file 'feat_handbag.pickle'\n"
     ]
    },
    {
     "name": "stderr",
     "output_type": "stream",
     "text": [
      "554it [00:00, 21404.44it/s]\n"
     ]
    },
    {
     "name": "stdout",
     "output_type": "stream",
     "text": [
      "Processing file 'feat_suitcase.pickle'\n"
     ]
    },
    {
     "name": "stderr",
     "output_type": "stream",
     "text": [
      "735it [00:00, 21851.06it/s]\n"
     ]
    },
    {
     "name": "stdout",
     "output_type": "stream",
     "text": [
      "Processing file 'feat_tie.pickle'\n"
     ]
    },
    {
     "name": "stderr",
     "output_type": "stream",
     "text": [
      "354it [00:00, 18678.17it/s]\n"
     ]
    },
    {
     "name": "stdout",
     "output_type": "stream",
     "text": [
      "Processing file 'feat_umbrella.pickle'\n"
     ]
    },
    {
     "name": "stderr",
     "output_type": "stream",
     "text": [
      "718it [00:00, 11972.82it/s]\n"
     ]
    },
    {
     "name": "stdout",
     "output_type": "stream",
     "text": [
      "Training model...\n",
      "Evaluating model...\n",
      "1/1 [==============================] - 0s 16ms/step - loss: 1.9010 - accuracy: 0.4242\n",
      "Done...\n",
      "Processing file 'feat_backpack.pickle'\n"
     ]
    },
    {
     "name": "stderr",
     "output_type": "stream",
     "text": [
      "608it [00:00, 21010.22it/s]\n"
     ]
    },
    {
     "name": "stdout",
     "output_type": "stream",
     "text": [
      "Processing file 'feat_handbag.pickle'\n"
     ]
    },
    {
     "name": "stderr",
     "output_type": "stream",
     "text": [
      "554it [00:00, 21194.75it/s]\n"
     ]
    },
    {
     "name": "stdout",
     "output_type": "stream",
     "text": [
      "Processing file 'feat_suitcase.pickle'\n"
     ]
    },
    {
     "name": "stderr",
     "output_type": "stream",
     "text": [
      "735it [00:00, 11782.79it/s]\n"
     ]
    },
    {
     "name": "stdout",
     "output_type": "stream",
     "text": [
      "Processing file 'feat_tie.pickle'\n"
     ]
    },
    {
     "name": "stderr",
     "output_type": "stream",
     "text": [
      "354it [00:00, 11394.94it/s]\n"
     ]
    },
    {
     "name": "stdout",
     "output_type": "stream",
     "text": [
      "Processing file 'feat_umbrella.pickle'\n"
     ]
    },
    {
     "name": "stderr",
     "output_type": "stream",
     "text": [
      "718it [00:00, 12047.44it/s]\n"
     ]
    },
    {
     "name": "stdout",
     "output_type": "stream",
     "text": [
      "Training model...\n",
      "Evaluating model...\n",
      "1/1 [==============================] - 0s 19ms/step - loss: 2.1623 - accuracy: 0.3131\n",
      "Done...\n",
      "Processing file 'feat_backpack.pickle'\n"
     ]
    },
    {
     "name": "stderr",
     "output_type": "stream",
     "text": [
      "608it [00:00, 11549.74it/s]\n"
     ]
    },
    {
     "name": "stdout",
     "output_type": "stream",
     "text": [
      "Processing file 'feat_handbag.pickle'\n"
     ]
    },
    {
     "name": "stderr",
     "output_type": "stream",
     "text": [
      "554it [00:00, 10657.70it/s]\n"
     ]
    },
    {
     "name": "stdout",
     "output_type": "stream",
     "text": [
      "Processing file 'feat_suitcase.pickle'\n"
     ]
    },
    {
     "name": "stderr",
     "output_type": "stream",
     "text": [
      "735it [00:00, 12080.94it/s]\n"
     ]
    },
    {
     "name": "stdout",
     "output_type": "stream",
     "text": [
      "Processing file 'feat_tie.pickle'\n"
     ]
    },
    {
     "name": "stderr",
     "output_type": "stream",
     "text": [
      "354it [00:00, 11475.35it/s]\n"
     ]
    },
    {
     "name": "stdout",
     "output_type": "stream",
     "text": [
      "Processing file 'feat_umbrella.pickle'\n"
     ]
    },
    {
     "name": "stderr",
     "output_type": "stream",
     "text": [
      "718it [00:00, 11907.86it/s]\n"
     ]
    },
    {
     "name": "stdout",
     "output_type": "stream",
     "text": [
      "Training model...\n",
      "Evaluating model...\n",
      "1/1 [==============================] - 0s 16ms/step - loss: 1.9636 - accuracy: 0.4040\n",
      "Done...\n",
      "Processing file 'feat_backpack.pickle'\n"
     ]
    },
    {
     "name": "stderr",
     "output_type": "stream",
     "text": [
      "608it [00:00, 11914.80it/s]\n"
     ]
    },
    {
     "name": "stdout",
     "output_type": "stream",
     "text": [
      "Processing file 'feat_handbag.pickle'\n"
     ]
    },
    {
     "name": "stderr",
     "output_type": "stream",
     "text": [
      "554it [00:00, 11150.46it/s]\n"
     ]
    },
    {
     "name": "stdout",
     "output_type": "stream",
     "text": [
      "Processing file 'feat_suitcase.pickle'\n"
     ]
    },
    {
     "name": "stderr",
     "output_type": "stream",
     "text": [
      "735it [00:00, 12161.38it/s]\n"
     ]
    },
    {
     "name": "stdout",
     "output_type": "stream",
     "text": [
      "Processing file 'feat_tie.pickle'\n"
     ]
    },
    {
     "name": "stderr",
     "output_type": "stream",
     "text": [
      "354it [00:00, 11283.75it/s]\n"
     ]
    },
    {
     "name": "stdout",
     "output_type": "stream",
     "text": [
      "Processing file 'feat_umbrella.pickle'\n"
     ]
    },
    {
     "name": "stderr",
     "output_type": "stream",
     "text": [
      "718it [00:00, 11761.37it/s]\n"
     ]
    },
    {
     "name": "stdout",
     "output_type": "stream",
     "text": [
      "Training model...\n",
      "Evaluating model...\n",
      "1/1 [==============================] - 0s 16ms/step - loss: 1.9843 - accuracy: 0.4680\n",
      "Done...\n",
      "Processing file 'feat_backpack.pickle'\n"
     ]
    },
    {
     "name": "stderr",
     "output_type": "stream",
     "text": [
      "608it [00:00, 11408.37it/s]\n"
     ]
    },
    {
     "name": "stdout",
     "output_type": "stream",
     "text": [
      "Processing file 'feat_handbag.pickle'\n"
     ]
    },
    {
     "name": "stderr",
     "output_type": "stream",
     "text": [
      "554it [00:00, 21287.96it/s]\n"
     ]
    },
    {
     "name": "stdout",
     "output_type": "stream",
     "text": [
      "Processing file 'feat_suitcase.pickle'\n"
     ]
    },
    {
     "name": "stderr",
     "output_type": "stream",
     "text": [
      "735it [00:00, 11749.02it/s]\n"
     ]
    },
    {
     "name": "stdout",
     "output_type": "stream",
     "text": [
      "Processing file 'feat_tie.pickle'\n"
     ]
    },
    {
     "name": "stderr",
     "output_type": "stream",
     "text": [
      "354it [00:00, 11030.84it/s]\n"
     ]
    },
    {
     "name": "stdout",
     "output_type": "stream",
     "text": [
      "Processing file 'feat_umbrella.pickle'\n"
     ]
    },
    {
     "name": "stderr",
     "output_type": "stream",
     "text": [
      "718it [00:00, 23522.46it/s]\n"
     ]
    },
    {
     "name": "stdout",
     "output_type": "stream",
     "text": [
      "Training model...\n",
      "Evaluating model...\n",
      "1/1 [==============================] - 0s 15ms/step - loss: 1.8905 - accuracy: 0.4175\n",
      "Done...\n",
      "Processing file 'feat_backpack.pickle'\n"
     ]
    },
    {
     "name": "stderr",
     "output_type": "stream",
     "text": [
      "608it [00:00, 11697.18it/s]\n"
     ]
    },
    {
     "name": "stdout",
     "output_type": "stream",
     "text": [
      "Processing file 'feat_handbag.pickle'\n"
     ]
    },
    {
     "name": "stderr",
     "output_type": "stream",
     "text": [
      "554it [00:00, 19280.80it/s]\n"
     ]
    },
    {
     "name": "stdout",
     "output_type": "stream",
     "text": [
      "Processing file 'feat_suitcase.pickle'\n"
     ]
    },
    {
     "name": "stderr",
     "output_type": "stream",
     "text": [
      "735it [00:00, 12082.50it/s]\n"
     ]
    },
    {
     "name": "stdout",
     "output_type": "stream",
     "text": [
      "Processing file 'feat_tie.pickle'\n"
     ]
    },
    {
     "name": "stderr",
     "output_type": "stream",
     "text": [
      "354it [00:00, 11065.86it/s]\n"
     ]
    },
    {
     "name": "stdout",
     "output_type": "stream",
     "text": [
      "Processing file 'feat_umbrella.pickle'\n"
     ]
    },
    {
     "name": "stderr",
     "output_type": "stream",
     "text": [
      "718it [00:00, 12374.76it/s]\n"
     ]
    },
    {
     "name": "stdout",
     "output_type": "stream",
     "text": [
      "Training model...\n",
      "Evaluating model...\n",
      "1/1 [==============================] - 0s 16ms/step - loss: 1.8935 - accuracy: 0.4613\n",
      "Done...\n",
      "Processing file 'feat_backpack.pickle'\n"
     ]
    },
    {
     "name": "stderr",
     "output_type": "stream",
     "text": [
      "608it [00:00, 11332.98it/s]\n"
     ]
    },
    {
     "name": "stdout",
     "output_type": "stream",
     "text": [
      "Processing file 'feat_handbag.pickle'\n"
     ]
    },
    {
     "name": "stderr",
     "output_type": "stream",
     "text": [
      "554it [00:00, 12099.73it/s]\n"
     ]
    },
    {
     "name": "stdout",
     "output_type": "stream",
     "text": [
      "Processing file 'feat_suitcase.pickle'\n"
     ]
    },
    {
     "name": "stderr",
     "output_type": "stream",
     "text": [
      "735it [00:00, 12069.49it/s]\n"
     ]
    },
    {
     "name": "stdout",
     "output_type": "stream",
     "text": [
      "Processing file 'feat_tie.pickle'\n"
     ]
    },
    {
     "name": "stderr",
     "output_type": "stream",
     "text": [
      "354it [00:00, 19783.40it/s]\n"
     ]
    },
    {
     "name": "stdout",
     "output_type": "stream",
     "text": [
      "Processing file 'feat_umbrella.pickle'\n"
     ]
    },
    {
     "name": "stderr",
     "output_type": "stream",
     "text": [
      "718it [00:00, 12262.25it/s]\n"
     ]
    },
    {
     "name": "stdout",
     "output_type": "stream",
     "text": [
      "Training model...\n",
      "Evaluating model...\n",
      "1/1 [==============================] - 0s 15ms/step - loss: 2.1056 - accuracy: 0.4747\n",
      "Done...\n",
      "Processing file 'feat_backpack.pickle'\n"
     ]
    },
    {
     "name": "stderr",
     "output_type": "stream",
     "text": [
      "608it [00:00, 11658.73it/s]\n"
     ]
    },
    {
     "name": "stdout",
     "output_type": "stream",
     "text": [
      "Processing file 'feat_handbag.pickle'\n"
     ]
    },
    {
     "name": "stderr",
     "output_type": "stream",
     "text": [
      "554it [00:00, 11812.42it/s]\n"
     ]
    },
    {
     "name": "stdout",
     "output_type": "stream",
     "text": [
      "Processing file 'feat_suitcase.pickle'\n"
     ]
    },
    {
     "name": "stderr",
     "output_type": "stream",
     "text": [
      "735it [00:00, 12330.81it/s]\n"
     ]
    },
    {
     "name": "stdout",
     "output_type": "stream",
     "text": [
      "Processing file 'feat_tie.pickle'\n"
     ]
    },
    {
     "name": "stderr",
     "output_type": "stream",
     "text": [
      "354it [00:00, 11361.46it/s]\n"
     ]
    },
    {
     "name": "stdout",
     "output_type": "stream",
     "text": [
      "Processing file 'feat_umbrella.pickle'\n"
     ]
    },
    {
     "name": "stderr",
     "output_type": "stream",
     "text": [
      "718it [00:00, 23913.59it/s]\n"
     ]
    },
    {
     "name": "stdout",
     "output_type": "stream",
     "text": [
      "Training model...\n",
      "Evaluating model...\n",
      "1/1 [==============================] - 0s 15ms/step - loss: 1.4415 - accuracy: 0.5758\n",
      "Done...\n",
      "Processing file 'feat_backpack.pickle'\n"
     ]
    },
    {
     "name": "stderr",
     "output_type": "stream",
     "text": [
      "608it [00:00, 11962.98it/s]\n"
     ]
    },
    {
     "name": "stdout",
     "output_type": "stream",
     "text": [
      "Processing file 'feat_handbag.pickle'\n"
     ]
    },
    {
     "name": "stderr",
     "output_type": "stream",
     "text": [
      "554it [00:00, 12088.46it/s]\n"
     ]
    },
    {
     "name": "stdout",
     "output_type": "stream",
     "text": [
      "Processing file 'feat_suitcase.pickle'\n"
     ]
    },
    {
     "name": "stderr",
     "output_type": "stream",
     "text": [
      "735it [00:00, 12328.15it/s]\n"
     ]
    },
    {
     "name": "stdout",
     "output_type": "stream",
     "text": [
      "Processing file 'feat_tie.pickle'\n"
     ]
    },
    {
     "name": "stderr",
     "output_type": "stream",
     "text": [
      "354it [00:00, 11484.58it/s]\n"
     ]
    },
    {
     "name": "stdout",
     "output_type": "stream",
     "text": [
      "Processing file 'feat_umbrella.pickle'\n"
     ]
    },
    {
     "name": "stderr",
     "output_type": "stream",
     "text": [
      "718it [00:00, 23823.17it/s]\n"
     ]
    },
    {
     "name": "stdout",
     "output_type": "stream",
     "text": [
      "Training model...\n",
      "Evaluating model...\n",
      "1/1 [==============================] - 0s 16ms/step - loss: 1.4556 - accuracy: 0.6162\n",
      "Done...\n",
      "Processing file 'feat_backpack.pickle'\n"
     ]
    },
    {
     "name": "stderr",
     "output_type": "stream",
     "text": [
      "608it [00:00, 11951.43it/s]\n"
     ]
    },
    {
     "name": "stdout",
     "output_type": "stream",
     "text": [
      "Processing file 'feat_handbag.pickle'\n"
     ]
    },
    {
     "name": "stderr",
     "output_type": "stream",
     "text": [
      "554it [00:00, 12093.62it/s]\n"
     ]
    },
    {
     "name": "stdout",
     "output_type": "stream",
     "text": [
      "Processing file 'feat_suitcase.pickle'\n"
     ]
    },
    {
     "name": "stderr",
     "output_type": "stream",
     "text": [
      "735it [00:00, 12176.08it/s]\n"
     ]
    },
    {
     "name": "stdout",
     "output_type": "stream",
     "text": [
      "Processing file 'feat_tie.pickle'\n"
     ]
    },
    {
     "name": "stderr",
     "output_type": "stream",
     "text": [
      "354it [00:00, 11184.14it/s]\n"
     ]
    },
    {
     "name": "stdout",
     "output_type": "stream",
     "text": [
      "Processing file 'feat_umbrella.pickle'\n"
     ]
    },
    {
     "name": "stderr",
     "output_type": "stream",
     "text": [
      "718it [00:00, 23262.27it/s]\n"
     ]
    },
    {
     "name": "stdout",
     "output_type": "stream",
     "text": [
      "Training model...\n",
      "Evaluating model...\n",
      "1/1 [==============================] - 0s 15ms/step - loss: 1.4719 - accuracy: 0.6229\n",
      "Done...\n",
      "Processing file 'feat_backpack.pickle'\n"
     ]
    },
    {
     "name": "stderr",
     "output_type": "stream",
     "text": [
      "608it [00:00, 22035.04it/s]\n"
     ]
    },
    {
     "name": "stdout",
     "output_type": "stream",
     "text": [
      "Processing file 'feat_handbag.pickle'\n"
     ]
    },
    {
     "name": "stderr",
     "output_type": "stream",
     "text": [
      "554it [00:00, 13453.87it/s]\n"
     ]
    },
    {
     "name": "stdout",
     "output_type": "stream",
     "text": [
      "Processing file 'feat_suitcase.pickle'\n"
     ]
    },
    {
     "name": "stderr",
     "output_type": "stream",
     "text": [
      "735it [00:00, 12009.96it/s]\n"
     ]
    },
    {
     "name": "stdout",
     "output_type": "stream",
     "text": [
      "Processing file 'feat_tie.pickle'\n"
     ]
    },
    {
     "name": "stderr",
     "output_type": "stream",
     "text": [
      "354it [00:00, 11489.55it/s]\n"
     ]
    },
    {
     "name": "stdout",
     "output_type": "stream",
     "text": [
      "Processing file 'feat_umbrella.pickle'\n"
     ]
    },
    {
     "name": "stderr",
     "output_type": "stream",
     "text": [
      "718it [00:00, 12368.87it/s]\n"
     ]
    },
    {
     "name": "stdout",
     "output_type": "stream",
     "text": [
      "Training model...\n",
      "Evaluating model...\n",
      "1/1 [==============================] - 0s 15ms/step - loss: 2.0382 - accuracy: 0.3569\n",
      "Done...\n",
      "Processing file 'feat_backpack.pickle'\n"
     ]
    },
    {
     "name": "stderr",
     "output_type": "stream",
     "text": [
      "608it [00:00, 12042.69it/s]\n"
     ]
    },
    {
     "name": "stdout",
     "output_type": "stream",
     "text": [
      "Processing file 'feat_handbag.pickle'\n"
     ]
    },
    {
     "name": "stderr",
     "output_type": "stream",
     "text": [
      "554it [00:00, 12098.66it/s]\n"
     ]
    },
    {
     "name": "stdout",
     "output_type": "stream",
     "text": [
      "Processing file 'feat_suitcase.pickle'\n"
     ]
    },
    {
     "name": "stderr",
     "output_type": "stream",
     "text": [
      "735it [00:00, 22948.36it/s]\n"
     ]
    },
    {
     "name": "stdout",
     "output_type": "stream",
     "text": [
      "Processing file 'feat_tie.pickle'\n"
     ]
    },
    {
     "name": "stderr",
     "output_type": "stream",
     "text": [
      "354it [00:00, 20315.85it/s]\n"
     ]
    },
    {
     "name": "stdout",
     "output_type": "stream",
     "text": [
      "Processing file 'feat_umbrella.pickle'\n"
     ]
    },
    {
     "name": "stderr",
     "output_type": "stream",
     "text": [
      "718it [00:00, 11908.57it/s]\n"
     ]
    },
    {
     "name": "stdout",
     "output_type": "stream",
     "text": [
      "Training model...\n",
      "Evaluating model...\n",
      "1/1 [==============================] - 0s 16ms/step - loss: 2.0082 - accuracy: 0.3906\n",
      "Done...\n",
      "Processing file 'feat_backpack.pickle'\n"
     ]
    },
    {
     "name": "stderr",
     "output_type": "stream",
     "text": [
      "608it [00:00, 11588.74it/s]\n"
     ]
    },
    {
     "name": "stdout",
     "output_type": "stream",
     "text": [
      "Processing file 'feat_handbag.pickle'\n"
     ]
    },
    {
     "name": "stderr",
     "output_type": "stream",
     "text": [
      "554it [00:00, 12075.65it/s]\n"
     ]
    },
    {
     "name": "stdout",
     "output_type": "stream",
     "text": [
      "Processing file 'feat_suitcase.pickle'\n"
     ]
    },
    {
     "name": "stderr",
     "output_type": "stream",
     "text": [
      "735it [00:00, 22560.09it/s]\n"
     ]
    },
    {
     "name": "stdout",
     "output_type": "stream",
     "text": [
      "Processing file 'feat_tie.pickle'\n"
     ]
    },
    {
     "name": "stderr",
     "output_type": "stream",
     "text": [
      "354it [00:00, 10915.68it/s]\n"
     ]
    },
    {
     "name": "stdout",
     "output_type": "stream",
     "text": [
      "Processing file 'feat_umbrella.pickle'\n"
     ]
    },
    {
     "name": "stderr",
     "output_type": "stream",
     "text": [
      "718it [00:00, 12367.85it/s]\n"
     ]
    },
    {
     "name": "stdout",
     "output_type": "stream",
     "text": [
      "Training model...\n",
      "Evaluating model...\n",
      "1/1 [==============================] - 0s 17ms/step - loss: 1.7094 - accuracy: 0.5051\n",
      "Done...\n",
      "Processing file 'feat_backpack.pickle'\n"
     ]
    },
    {
     "name": "stderr",
     "output_type": "stream",
     "text": [
      "608it [00:00, 11778.38it/s]\n"
     ]
    },
    {
     "name": "stdout",
     "output_type": "stream",
     "text": [
      "Processing file 'feat_handbag.pickle'\n"
     ]
    },
    {
     "name": "stderr",
     "output_type": "stream",
     "text": [
      "554it [00:00, 11924.01it/s]\n"
     ]
    },
    {
     "name": "stdout",
     "output_type": "stream",
     "text": [
      "Processing file 'feat_suitcase.pickle'\n"
     ]
    },
    {
     "name": "stderr",
     "output_type": "stream",
     "text": [
      "735it [00:00, 12105.42it/s]\n"
     ]
    },
    {
     "name": "stdout",
     "output_type": "stream",
     "text": [
      "Processing file 'feat_tie.pickle'\n"
     ]
    },
    {
     "name": "stderr",
     "output_type": "stream",
     "text": [
      "354it [00:00, 11438.39it/s]\n"
     ]
    },
    {
     "name": "stdout",
     "output_type": "stream",
     "text": [
      "Processing file 'feat_umbrella.pickle'\n"
     ]
    },
    {
     "name": "stderr",
     "output_type": "stream",
     "text": [
      "718it [00:00, 12353.44it/s]\n"
     ]
    },
    {
     "name": "stdout",
     "output_type": "stream",
     "text": [
      "Training model...\n",
      "Evaluating model...\n",
      "1/1 [==============================] - 0s 16ms/step - loss: 1.3489 - accuracy: 0.6061\n",
      "Done...\n",
      "Processing file 'feat_backpack.pickle'\n"
     ]
    },
    {
     "name": "stderr",
     "output_type": "stream",
     "text": [
      "608it [00:00, 11786.54it/s]\n"
     ]
    },
    {
     "name": "stdout",
     "output_type": "stream",
     "text": [
      "Processing file 'feat_handbag.pickle'\n"
     ]
    },
    {
     "name": "stderr",
     "output_type": "stream",
     "text": [
      "554it [00:00, 12072.70it/s]\n"
     ]
    },
    {
     "name": "stdout",
     "output_type": "stream",
     "text": [
      "Processing file 'feat_suitcase.pickle'\n"
     ]
    },
    {
     "name": "stderr",
     "output_type": "stream",
     "text": [
      "735it [00:00, 22874.46it/s]\n"
     ]
    },
    {
     "name": "stdout",
     "output_type": "stream",
     "text": [
      "Processing file 'feat_tie.pickle'\n"
     ]
    },
    {
     "name": "stderr",
     "output_type": "stream",
     "text": [
      "354it [00:00, 14278.69it/s]\n"
     ]
    },
    {
     "name": "stdout",
     "output_type": "stream",
     "text": [
      "Processing file 'feat_umbrella.pickle'\n"
     ]
    },
    {
     "name": "stderr",
     "output_type": "stream",
     "text": [
      "718it [00:00, 12236.69it/s]\n"
     ]
    },
    {
     "name": "stdout",
     "output_type": "stream",
     "text": [
      "Training model...\n",
      "Evaluating model...\n",
      "1/1 [==============================] - 0s 16ms/step - loss: 1.4717 - accuracy: 0.6566\n",
      "Done...\n",
      "Processing file 'feat_backpack.pickle'\n"
     ]
    },
    {
     "name": "stderr",
     "output_type": "stream",
     "text": [
      "608it [00:00, 11939.29it/s]\n"
     ]
    },
    {
     "name": "stdout",
     "output_type": "stream",
     "text": [
      "Processing file 'feat_handbag.pickle'\n"
     ]
    },
    {
     "name": "stderr",
     "output_type": "stream",
     "text": [
      "554it [00:00, 22567.10it/s]\n"
     ]
    },
    {
     "name": "stdout",
     "output_type": "stream",
     "text": [
      "Processing file 'feat_suitcase.pickle'\n"
     ]
    },
    {
     "name": "stderr",
     "output_type": "stream",
     "text": [
      "735it [00:00, 22767.02it/s]\n"
     ]
    },
    {
     "name": "stdout",
     "output_type": "stream",
     "text": [
      "Processing file 'feat_tie.pickle'\n"
     ]
    },
    {
     "name": "stderr",
     "output_type": "stream",
     "text": [
      "354it [00:00, 11602.23it/s]\n"
     ]
    },
    {
     "name": "stdout",
     "output_type": "stream",
     "text": [
      "Processing file 'feat_umbrella.pickle'\n"
     ]
    },
    {
     "name": "stderr",
     "output_type": "stream",
     "text": [
      "718it [00:00, 12340.74it/s]\n"
     ]
    },
    {
     "name": "stdout",
     "output_type": "stream",
     "text": [
      "Training model...\n",
      "Evaluating model...\n",
      "1/1 [==============================] - 0s 15ms/step - loss: 1.5076 - accuracy: 0.6162\n",
      "Done...\n",
      "Processing file 'feat_backpack.pickle'\n"
     ]
    },
    {
     "name": "stderr",
     "output_type": "stream",
     "text": [
      "608it [00:00, 12015.74it/s]\n"
     ]
    },
    {
     "name": "stdout",
     "output_type": "stream",
     "text": [
      "Processing file 'feat_handbag.pickle'\n"
     ]
    },
    {
     "name": "stderr",
     "output_type": "stream",
     "text": [
      "554it [00:00, 23039.46it/s]\n"
     ]
    },
    {
     "name": "stdout",
     "output_type": "stream",
     "text": [
      "Processing file 'feat_suitcase.pickle'\n"
     ]
    },
    {
     "name": "stderr",
     "output_type": "stream",
     "text": [
      "735it [00:00, 20405.31it/s]\n"
     ]
    },
    {
     "name": "stdout",
     "output_type": "stream",
     "text": [
      "Processing file 'feat_tie.pickle'\n"
     ]
    },
    {
     "name": "stderr",
     "output_type": "stream",
     "text": [
      "354it [00:00, 11571.12it/s]\n"
     ]
    },
    {
     "name": "stdout",
     "output_type": "stream",
     "text": [
      "Processing file 'feat_umbrella.pickle'\n"
     ]
    },
    {
     "name": "stderr",
     "output_type": "stream",
     "text": [
      "718it [00:00, 15156.45it/s]\n"
     ]
    },
    {
     "name": "stdout",
     "output_type": "stream",
     "text": [
      "Training model...\n",
      "Evaluating model...\n",
      "1/1 [==============================] - 0s 17ms/step - loss: 1.4274 - accuracy: 0.5993\n",
      "Done...\n",
      "Processing file 'feat_backpack.pickle'\n"
     ]
    },
    {
     "name": "stderr",
     "output_type": "stream",
     "text": [
      "608it [00:00, 11974.27it/s]\n"
     ]
    },
    {
     "name": "stdout",
     "output_type": "stream",
     "text": [
      "Processing file 'feat_handbag.pickle'\n"
     ]
    },
    {
     "name": "stderr",
     "output_type": "stream",
     "text": [
      "554it [00:00, 12207.35it/s]\n"
     ]
    },
    {
     "name": "stdout",
     "output_type": "stream",
     "text": [
      "Processing file 'feat_suitcase.pickle'\n"
     ]
    },
    {
     "name": "stderr",
     "output_type": "stream",
     "text": [
      "735it [00:00, 12133.24it/s]\n"
     ]
    },
    {
     "name": "stdout",
     "output_type": "stream",
     "text": [
      "Processing file 'feat_tie.pickle'\n"
     ]
    },
    {
     "name": "stderr",
     "output_type": "stream",
     "text": [
      "354it [00:00, 11563.19it/s]\n"
     ]
    },
    {
     "name": "stdout",
     "output_type": "stream",
     "text": [
      "Processing file 'feat_umbrella.pickle'\n"
     ]
    },
    {
     "name": "stderr",
     "output_type": "stream",
     "text": [
      "718it [00:00, 15925.41it/s]\n"
     ]
    },
    {
     "name": "stdout",
     "output_type": "stream",
     "text": [
      "Training model...\n",
      "Evaluating model...\n",
      "1/1 [==============================] - 0s 15ms/step - loss: 1.4382 - accuracy: 0.6094\n",
      "Done...\n",
      "Processing file 'feat_backpack.pickle'\n"
     ]
    },
    {
     "name": "stderr",
     "output_type": "stream",
     "text": [
      "608it [00:00, 12027.64it/s]\n"
     ]
    },
    {
     "name": "stdout",
     "output_type": "stream",
     "text": [
      "Processing file 'feat_handbag.pickle'\n"
     ]
    },
    {
     "name": "stderr",
     "output_type": "stream",
     "text": [
      "554it [00:00, 12101.94it/s]\n"
     ]
    },
    {
     "name": "stdout",
     "output_type": "stream",
     "text": [
      "Processing file 'feat_suitcase.pickle'\n"
     ]
    },
    {
     "name": "stderr",
     "output_type": "stream",
     "text": [
      "735it [00:00, 12334.95it/s]\n"
     ]
    },
    {
     "name": "stdout",
     "output_type": "stream",
     "text": [
      "Processing file 'feat_tie.pickle'\n"
     ]
    },
    {
     "name": "stderr",
     "output_type": "stream",
     "text": [
      "354it [00:00, 11636.60it/s]\n"
     ]
    },
    {
     "name": "stdout",
     "output_type": "stream",
     "text": [
      "Processing file 'feat_umbrella.pickle'\n"
     ]
    },
    {
     "name": "stderr",
     "output_type": "stream",
     "text": [
      "718it [00:00, 23974.32it/s]\n"
     ]
    },
    {
     "name": "stdout",
     "output_type": "stream",
     "text": [
      "Training model...\n",
      "Evaluating model...\n",
      "1/1 [==============================] - 0s 15ms/step - loss: 1.3902 - accuracy: 0.6364\n",
      "Done...\n",
      "Processing file 'feat_backpack.pickle'\n"
     ]
    },
    {
     "name": "stderr",
     "output_type": "stream",
     "text": [
      "608it [00:00, 12006.12it/s]\n"
     ]
    },
    {
     "name": "stdout",
     "output_type": "stream",
     "text": [
      "Processing file 'feat_handbag.pickle'\n"
     ]
    },
    {
     "name": "stderr",
     "output_type": "stream",
     "text": [
      "554it [00:00, 11784.62it/s]\n"
     ]
    },
    {
     "name": "stdout",
     "output_type": "stream",
     "text": [
      "Processing file 'feat_suitcase.pickle'\n"
     ]
    },
    {
     "name": "stderr",
     "output_type": "stream",
     "text": [
      "735it [00:00, 22893.31it/s]\n"
     ]
    },
    {
     "name": "stdout",
     "output_type": "stream",
     "text": [
      "Processing file 'feat_tie.pickle'\n"
     ]
    },
    {
     "name": "stderr",
     "output_type": "stream",
     "text": [
      "354it [00:00, 11316.17it/s]\n"
     ]
    },
    {
     "name": "stdout",
     "output_type": "stream",
     "text": [
      "Processing file 'feat_umbrella.pickle'\n"
     ]
    },
    {
     "name": "stderr",
     "output_type": "stream",
     "text": [
      "718it [00:00, 12217.18it/s]\n"
     ]
    },
    {
     "name": "stdout",
     "output_type": "stream",
     "text": [
      "Training model...\n",
      "Evaluating model...\n",
      "1/1 [==============================] - 0s 15ms/step - loss: 1.4290 - accuracy: 0.6229\n",
      "Done...\n",
      "Processing file 'feat_backpack.pickle'\n"
     ]
    },
    {
     "name": "stderr",
     "output_type": "stream",
     "text": [
      "608it [00:00, 11965.96it/s]\n"
     ]
    },
    {
     "name": "stdout",
     "output_type": "stream",
     "text": [
      "Processing file 'feat_handbag.pickle'\n"
     ]
    },
    {
     "name": "stderr",
     "output_type": "stream",
     "text": [
      "554it [00:00, 11959.42it/s]\n"
     ]
    },
    {
     "name": "stdout",
     "output_type": "stream",
     "text": [
      "Processing file 'feat_suitcase.pickle'\n"
     ]
    },
    {
     "name": "stderr",
     "output_type": "stream",
     "text": [
      "735it [00:00, 16009.71it/s]\n"
     ]
    },
    {
     "name": "stdout",
     "output_type": "stream",
     "text": [
      "Processing file 'feat_tie.pickle'\n"
     ]
    },
    {
     "name": "stderr",
     "output_type": "stream",
     "text": [
      "354it [00:00, 11179.42it/s]\n"
     ]
    },
    {
     "name": "stdout",
     "output_type": "stream",
     "text": [
      "Processing file 'feat_umbrella.pickle'\n"
     ]
    },
    {
     "name": "stderr",
     "output_type": "stream",
     "text": [
      "718it [00:00, 12397.13it/s]\n"
     ]
    },
    {
     "name": "stdout",
     "output_type": "stream",
     "text": [
      "Training model...\n",
      "Evaluating model...\n",
      "1/1 [==============================] - 0s 15ms/step - loss: 1.5751 - accuracy: 0.6532\n",
      "Done...\n",
      "Processing file 'feat_backpack.pickle'\n"
     ]
    },
    {
     "name": "stderr",
     "output_type": "stream",
     "text": [
      "608it [00:00, 18062.63it/s]\n"
     ]
    },
    {
     "name": "stdout",
     "output_type": "stream",
     "text": [
      "Processing file 'feat_handbag.pickle'\n"
     ]
    },
    {
     "name": "stderr",
     "output_type": "stream",
     "text": [
      "554it [00:00, 12092.24it/s]\n"
     ]
    },
    {
     "name": "stdout",
     "output_type": "stream",
     "text": [
      "Processing file 'feat_suitcase.pickle'\n"
     ]
    },
    {
     "name": "stderr",
     "output_type": "stream",
     "text": [
      "735it [00:00, 12234.65it/s]\n"
     ]
    },
    {
     "name": "stdout",
     "output_type": "stream",
     "text": [
      "Processing file 'feat_tie.pickle'\n"
     ]
    },
    {
     "name": "stderr",
     "output_type": "stream",
     "text": [
      "354it [00:00, 11345.31it/s]\n"
     ]
    },
    {
     "name": "stdout",
     "output_type": "stream",
     "text": [
      "Processing file 'feat_umbrella.pickle'\n"
     ]
    },
    {
     "name": "stderr",
     "output_type": "stream",
     "text": [
      "718it [00:00, 12407.60it/s]\n"
     ]
    },
    {
     "name": "stdout",
     "output_type": "stream",
     "text": [
      "Training model...\n",
      "Evaluating model...\n",
      "1/1 [==============================] - 0s 15ms/step - loss: 1.6094 - accuracy: 0.6263\n",
      "Done...\n"
     ]
    }
   ],
   "source": [
    "files = [\"feat_backpack.pickle\", \"feat_handbag.pickle\", \"feat_suitcase.pickle\", \"feat_tie.pickle\", \"feat_umbrella.pickle\"]\n",
    "token_strategies = [\"consistent\", 'max_image', 'max_obj', 'min_obj', 'random_obj']\n",
    "# layer_strategy = 0\n",
    "layers_map = {0: '09', 1: '10', 2: '11'}\n",
    "layers = [0, 1, 2]\n",
    "objects = ['main', 'second']\n",
    "          \n",
    "histories = {}\n",
    "test_scores = {}\n",
    "\n",
    "histories = {}\n",
    "test_scores = {}\n",
    "for obj in objects:\n",
    "    for strategy in token_strategies:\n",
    "        for layer in layers:\n",
    "            x = np.zeros((5000,768))\n",
    "            y = np.zeros((5000,1))\n",
    "            samples_i = 0\n",
    "\n",
    "            for file in files:\n",
    "                print(f\"Processing file '{file}'\")\n",
    "                features = pd.read_pickle(file)\n",
    "                features = features[(~features[\"second_fg_tokens\"].isnull()) & \n",
    "                                    (~features[\"main_fg_tokens\"].isnull()) & \n",
    "                                    (~features[\"second_consistent_fg_token\"].isnull()) &\n",
    "                                    (~features[\"main_consistent_fg_token\"].isnull())]\n",
    "                features[\"labels\"] = features['class'].apply(lambda x: labels_to_idx[x])\n",
    "                features = features.reset_index(drop=True)\n",
    "                for idx, row in tqdm(features.iterrows()):\n",
    "                    if strategy == 'consistent':\n",
    "                        token = int(row[f\"{obj}_consistent_fg_token\"])\n",
    "                    else:\n",
    "                        token = int(row[f\"{obj}_fg_tokens\"][layer][strategy])\n",
    "\n",
    "                    x[samples_i] = row[f\"layer_{layers_map[layer]}_act\"][token,:]\n",
    "                    y[samples_i] = row[\"labels\"]\n",
    "                    samples_i += 1    \n",
    "\n",
    "            x = x[:samples_i,:]\n",
    "            y = y[:samples_i,:]\n",
    "            y = to_categorical(y)\n",
    "\n",
    "            train_data, test_data, train_labels, test_labels = train_test_split(x, y, test_size=0.10, \n",
    "                                                                                random_state=42, \n",
    "                                                                                shuffle=True)    \n",
    "            clf_model = base_model()\n",
    "            print(\"Training model...\")\n",
    "            hist = clf_model.fit(tf.stack(train_data), \n",
    "                                 tf.stack(train_labels), \n",
    "                                 validation_split=0.10,\n",
    "                                 epochs=20, \n",
    "                                 batch_size=128, \n",
    "                                 verbose=0)\n",
    "            histories[f\"{layer}-{obj}-{strategy}\"] = hist\n",
    "            print(\"Evaluating model...\")\n",
    "            test_scores[f\"{layer}-{obj}-{strategy}\"] = clf_model.evaluate(tf.stack(test_data), tf.stack(test_labels), batch_size=len(test_data))\n",
    "            print(\"Done...\")"
   ]
  },
  {
   "cell_type": "code",
   "execution_count": 70,
   "id": "bb306210",
   "metadata": {},
   "outputs": [
    {
     "data": {
      "text/plain": [
       "72.0"
      ]
     },
     "execution_count": 70,
     "metadata": {},
     "output_type": "execute_result"
    }
   ],
   "source": [
    "token "
   ]
  },
  {
   "cell_type": "code",
   "execution_count": 64,
   "id": "47581f22",
   "metadata": {
    "scrolled": false
   },
   "outputs": [
    {
     "name": "stdout",
     "output_type": "stream",
     "text": [
      "0-max_image\n",
      "1-max_image\n",
      "2-max_image\n",
      "0-max_obj\n",
      "1-max_obj\n",
      "2-max_obj\n",
      "0-min_obj\n",
      "1-min_obj\n",
      "2-min_obj\n",
      "0-random_obj\n",
      "1-random_obj\n",
      "2-random_obj\n"
     ]
    },
    {
     "data": {
      "image/png": "[encoded data removed]",
      "text/plain": [
       "<Figure size 1400x4000 with 24 Axes>"
      ]
     },
     "metadata": {},
     "output_type": "display_data"
    }
   ],
   "source": [
    "fig, axs = plt.subplots(nrows=12, ncols=2, figsize=(14, 40))\n",
    "for idx, (layer_name, hist) in enumerate(histories.items()):\n",
    "    axs[idx, 0].plot(hist.history['loss'])\n",
    "    axs[idx, 0].plot(hist.history['val_loss'])\n",
    "    axs[idx, 0].set_title(f'{layer_name} loss')\n",
    "#     axs[idx, 0].ylabel('loss')\n",
    "#     axs[idx, 0].xlabel('epoch')\n",
    "    axs[idx, 0].legend(['train', 'val'], loc='upper left')\n",
    "\n",
    "    axs[idx, 1].plot(hist.history['accuracy'])\n",
    "    axs[idx, 1].plot(hist.history['val_accuracy'])\n",
    "    axs[idx, 1].set_title(f'{layer_name} accuracy')\n",
    "#     axs[idx, 1].ylabel('accuracy')\n",
    "#     axs[idx, 1].xlabel('epoch')\n",
    "    axs[idx, 1].legend(['train', 'val'], loc='upper left')\n",
    "\n",
    "plt.show()"
   ]
  },
  {
   "cell_type": "code",
   "execution_count": 73,
   "id": "87159fff",
   "metadata": {},
   "outputs": [
    {
     "data": {
      "text/plain": [
       "{'0-main-consistent': [2.1761956214904785, 0.3333333432674408],\n",
       " '1-main-consistent': [2.12437105178833, 0.3737373650074005],\n",
       " '2-main-consistent': [1.975760817527771, 0.4680134654045105],\n",
       " '0-main-max_image': [2.1935791969299316, 0.3400673270225525],\n",
       " '1-main-max_image': [1.9889370203018188, 0.3973063826560974],\n",
       " '2-main-max_image': [1.7879207134246826, 0.4848484992980957],\n",
       " '0-main-max_obj': [2.1659202575683594, 0.36026936769485474],\n",
       " '1-main-max_obj': [2.1598949432373047, 0.3905723989009857],\n",
       " '2-main-max_obj': [1.9010003805160522, 0.42424243688583374],\n",
       " '0-main-min_obj': [2.162294626235962, 0.31313130259513855],\n",
       " '1-main-min_obj': [1.9635926485061646, 0.4040403962135315],\n",
       " '2-main-min_obj': [1.9843233823776245, 0.4680134654045105],\n",
       " '0-main-random_obj': [1.8904669284820557, 0.41750842332839966],\n",
       " '1-main-random_obj': [1.893489122390747, 0.4612794518470764],\n",
       " '2-main-random_obj': [2.1056323051452637, 0.4747474789619446],\n",
       " '0-second-consistent': [1.4414712190628052, 0.5757575631141663],\n",
       " '1-second-consistent': [1.4556233882904053, 0.6161616444587708],\n",
       " '2-second-consistent': [1.4718594551086426, 0.6228955984115601],\n",
       " '0-second-max_image': [2.0382368564605713, 0.3569023609161377],\n",
       " '1-second-max_image': [2.0082321166992188, 0.3905723989009857],\n",
       " '2-second-max_image': [1.7094147205352783, 0.5050504803657532],\n",
       " '0-second-max_obj': [1.3489269018173218, 0.6060606241226196],\n",
       " '1-second-max_obj': [1.471747636795044, 0.6565656661987305],\n",
       " '2-second-max_obj': [1.5076103210449219, 0.6161616444587708],\n",
       " '0-second-min_obj': [1.4273850917816162, 0.5993266105651855],\n",
       " '1-second-min_obj': [1.4381524324417114, 0.6094276309013367],\n",
       " '2-second-min_obj': [1.390196442604065, 0.6363636255264282],\n",
       " '0-second-random_obj': [1.428950548171997, 0.6228955984115601],\n",
       " '1-second-random_obj': [1.575146198272705, 0.6531986594200134],\n",
       " '2-second-random_obj': [1.6093580722808838, 0.6262626051902771]}"
      ]
     },
     "execution_count": 73,
     "metadata": {},
     "output_type": "execute_result"
    }
   ],
   "source": [
    "test_scores"
   ]
  },
  {
   "cell_type": "code",
   "execution_count": null,
   "id": "898cdad3",
   "metadata": {},
   "outputs": [],
   "source": [
    " '9-main-consistent': [2.1761956214904785, 0.3333333432674408],\n",
    " '10-main-consistent': [2.12437105178833, 0.3737373650074005],\n",
    " '11-main-consistent': [1.975760817527771, 0.4680134654045105],\n",
    "    \n",
    " '9-main-max_image': [2.1935791969299316, 0.3400673270225525],\n",
    " '10-main-max_image': [1.9889370203018188, 0.3973063826560974],\n",
    " '11-main-max_image': [1.7879207134246826, 0.4848484992980957],\n",
    "    \n",
    " '0-main-max_obj': [2.1659202575683594, 0.36026936769485474],\n",
    " '1-main-max_obj': [2.1598949432373047, 0.3905723989009857],\n",
    " '2-main-max_obj': [1.9010003805160522, 0.42424243688583374],\n",
    "    \n",
    " '0-main-min_obj': [2.162294626235962, 0.31313130259513855],\n",
    " '1-main-min_obj': [1.9635926485061646, 0.4040403962135315],\n",
    " '2-main-min_obj': [1.9843233823776245, 0.4680134654045105],\n",
    "    \n",
    " '0-main-random_obj': [1.8904669284820557, 0.41750842332839966],\n",
    " '1-main-random_obj': [1.893489122390747, 0.4612794518470764],\n",
    " '2-main-random_obj': [2.1056323051452637, 0.4747474789619446],"
   ]
  },
  {
   "cell_type": "code",
   "execution_count": null,
   "id": "b127a843",
   "metadata": {},
   "outputs": [],
   "source": [
    " '0-second-consistent': [1.4414712190628052, 0.5757575631141663],\n",
    " '1-second-consistent': [1.4556233882904053, 0.6161616444587708],\n",
    " '2-second-consistent': [1.4718594551086426, 0.6228955984115601],\n",
    "    \n",
    " '0-second-max_image': [2.0382368564605713, 0.3569023609161377],\n",
    " '1-second-max_image': [2.0082321166992188, 0.3905723989009857],\n",
    " '2-second-max_image': [1.7094147205352783, 0.5050504803657532],\n",
    "    \n",
    " '0-second-max_obj': [1.3489269018173218, 0.6060606241226196],\n",
    " '1-second-max_obj': [1.471747636795044, 0.6565656661987305],\n",
    " '2-second-max_obj': [1.5076103210449219, 0.6161616444587708],\n",
    "    \n",
    " '0-second-min_obj': [1.4273850917816162, 0.5993266105651855],\n",
    " '1-second-min_obj': [1.4381524324417114, 0.6094276309013367],\n",
    " '2-second-min_obj': [1.390196442604065, 0.6363636255264282],\n",
    "    \n",
    " '0-second-random_obj': [1.428950548171997, 0.6228955984115601],\n",
    " '1-second-random_obj': [1.575146198272705, 0.6531986594200134],\n",
    " '2-second-random_obj': [1.6093580722808838, 0.6262626051902771]}"
   ]
  }
 ],
 "metadata": {
  "kernelspec": {
   "display_name": "Python 3 (ipykernel)",
   "language": "python",
   "name": "python3"
  },
  "language_info": {
   "codemirror_mode": {
    "name": "ipython",
    "version": 3
   },
   "file_extension": ".py",
   "mimetype": "text/x-python",
   "name": "python",
   "nbconvert_exporter": "python",
   "pygments_lexer": "ipython3",
   "version": "3.7.16"
  }
 },
 "nbformat": 4,
 "nbformat_minor": 5
}
